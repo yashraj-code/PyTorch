{
 "cells": [
  {
   "cell_type": "markdown",
   "metadata": {},
   "source": [
    "<a><h1> Linear Regression with PyTorch\n"
   ]
  },
  {
   "cell_type": "markdown",
   "metadata": {},
   "source": [
    "<h6>we're seeking to minimize the error between our model and the actual data, using a <em>loss function</em> like mean-squared-error."
   ]
  },
  {
   "cell_type": "markdown",
   "metadata": {},
   "source": [
    "<h6>we'll develop a collection of data points that appear random, but that fit a known linear equation y = 2x+1"
   ]
  },
  {
   "cell_type": "markdown",
   "metadata": {},
   "source": [
    "<a><u><h3> Perform standard imports"
   ]
  },
  {
   "cell_type": "code",
   "execution_count": 4,
   "metadata": {},
   "outputs": [],
   "source": [
    "import numpy as np\n",
    "import matplotlib.pyplot as plt\n",
    "\n",
    "import torch\n",
    "import torch.nn as nn\n"
   ]
  },
  {
   "cell_type": "markdown",
   "metadata": {},
   "source": [
    "<a><u><h3> Create a column matrix of X values"
   ]
  },
  {
   "cell_type": "code",
   "execution_count": 5,
   "metadata": {},
   "outputs": [
    {
     "name": "stdout",
     "output_type": "stream",
     "text": [
      "tensor([[ 1.],\n",
      "        [ 2.],\n",
      "        [ 3.],\n",
      "        [ 4.],\n",
      "        [ 5.],\n",
      "        [ 6.],\n",
      "        [ 7.],\n",
      "        [ 8.],\n",
      "        [ 9.],\n",
      "        [10.],\n",
      "        [11.],\n",
      "        [12.],\n",
      "        [13.],\n",
      "        [14.],\n",
      "        [15.],\n",
      "        [16.],\n",
      "        [17.],\n",
      "        [18.],\n",
      "        [19.],\n",
      "        [20.],\n",
      "        [21.],\n",
      "        [22.],\n",
      "        [23.],\n",
      "        [24.],\n",
      "        [25.],\n",
      "        [26.],\n",
      "        [27.],\n",
      "        [28.],\n",
      "        [29.],\n",
      "        [30.],\n",
      "        [31.],\n",
      "        [32.],\n",
      "        [33.],\n",
      "        [34.],\n",
      "        [35.],\n",
      "        [36.],\n",
      "        [37.],\n",
      "        [38.],\n",
      "        [39.],\n",
      "        [40.],\n",
      "        [41.],\n",
      "        [42.],\n",
      "        [43.],\n",
      "        [44.],\n",
      "        [45.],\n",
      "        [46.],\n",
      "        [47.],\n",
      "        [48.],\n",
      "        [49.],\n",
      "        [50.]])\n",
      "torch.Size([50, 1])\n"
     ]
    }
   ],
   "source": [
    "#CREATED X\n",
    "X= torch.linspace(1,50,50).reshape(-1,1)\n",
    "print(X)\n",
    "print(X.shape)\n",
    "\n",
    "#this will give 50 rows and 1 column"
   ]
  },
  {
   "cell_type": "markdown",
   "metadata": {},
   "source": [
    "<h6> Note that when we created tensor X, we did <em>not</em> pass <tt>requires_grad=True</tt>. This means that y doesn't have a gradient function, and <tt>y.backward()</tt> won't work. Since PyTorch is not tracking operations, it doesn't know the relationship between X and y."
   ]
  },
  {
   "cell_type": "markdown",
   "metadata": {},
   "source": [
    "<a><u><h3> Create a \"Random\" array of error values"
   ]
  },
  {
   "cell_type": "markdown",
   "metadata": {},
   "source": [
    "We want 50 random integer values that collectively cancel each other out."
   ]
  },
  {
   "cell_type": "code",
   "execution_count": 6,
   "metadata": {},
   "outputs": [
    {
     "name": "stdout",
     "output_type": "stream",
     "text": [
      "tensor(0.)\n"
     ]
    }
   ],
   "source": [
    "#CREATED ERROR\n",
    "torch.manual_seed(71)\n",
    "# this ensures whenever a random is generated it is same\n",
    "# to obtain reproducible results\n",
    "\n",
    "e=torch.randint(-8,9,(50,1),dtype=torch.float)\n",
    "\n",
    "# (50,1) is the o/p Size\n",
    "# -8,9 is the range\n",
    "\n",
    "#to ensure that they cancel each other\n",
    "print(e.sum())"
   ]
  },
  {
   "cell_type": "markdown",
   "metadata": {},
   "source": [
    "<a><u><h3> Create a column matrix of y values\n"
   ]
  },
  {
   "cell_type": "code",
   "execution_count": 7,
   "metadata": {},
   "outputs": [
    {
     "name": "stdout",
     "output_type": "stream",
     "text": [
      "torch.Size([50, 1])\n"
     ]
    }
   ],
   "source": [
    "#CREATED Y\n",
    "# WE will set our own parameters of weight =2, bias =1, plus the error amount.\n",
    "# y will have same shape as X and e\n",
    "\n",
    "y = 2*X + 1 + e\n",
    "print(y.shape)\n"
   ]
  },
  {
   "cell_type": "markdown",
   "metadata": {},
   "source": [
    "Now we know that we have used function y=2x +e <br>\n",
    "we will give x and y to the network and train it to predict complete function"
   ]
  },
  {
   "cell_type": "markdown",
   "metadata": {},
   "source": [
    "<a><u><h3> Plot the results </a></u></h3>\n",
    "We have to convert tensors to NumPy arrays just for plotting."
   ]
  },
  {
   "cell_type": "code",
   "execution_count": 8,
   "metadata": {},
   "outputs": [
    {
     "data": {
      "text/plain": [
       "Text(0.5, 0, 'x')"
      ]
     },
     "execution_count": 8,
     "metadata": {},
     "output_type": "execute_result"
    },
    {
     "data": {
      "image/png": "[encoded data removed]",
      "text/plain": [
       "<Figure size 432x288 with 1 Axes>"
      ]
     },
     "metadata": {
      "needs_background": "light"
     },
     "output_type": "display_data"
    }
   ],
   "source": [
    "plt.scatter(X.numpy(), y.numpy())\n",
    "plt.ylabel('y')\n",
    "plt.xlabel('x')"
   ]
  },
  {
   "cell_type": "markdown",
   "metadata": {},
   "source": [
    "<a><u><h3> Simple Linear model </a></u></h3>"
   ]
  },
  {
   "cell_type": "code",
   "execution_count": 9,
   "metadata": {},
   "outputs": [
    {
     "name": "stdout",
     "output_type": "stream",
     "text": [
      "Parameter containing:\n",
      "tensor([[0.1060]], requires_grad=True)\n",
      "Parameter containing:\n",
      "tensor([0.9638], requires_grad=True)\n"
     ]
    }
   ],
   "source": [
    "# built-in nn.Linear() model preselects weight and bias values randomly.\n",
    "\n",
    "torch.manual_seed(59)\n",
    "\n",
    "# nn.linear model conatains 3 parameters, 2 written below and one is bias = True \n",
    "model = nn.Linear(in_features=1, out_features=1)\n",
    "\n",
    "# in_features = 1 as we are giving only one x\n",
    "# out_feature = 1 as we are predicting only one y\n",
    "\n",
    "print(model.weight)\n",
    "print(model.bias)\n",
    "# observation - Automatically , requires_grad = True\n",
    "# now we will write & perform this in a class (below) "
   ]
  },
  {
   "cell_type": "markdown",
   "metadata": {},
   "source": [
    "<a><u><h3> Model classes </a></u></h3>\n",
    "\n",
    "PyTorch lets us define models as object classes that can store multiple model layers.<br>\n",
    " For now, though, we only need a single <tt>linear</tt> layer."
   ]
  },
  {
   "cell_type": "code",
   "execution_count": 10,
   "metadata": {},
   "outputs": [],
   "source": [
    "# nn.Module is base class for all Modules\n",
    "class Model(nn.Module):\n",
    "\n",
    "    #Constructor\n",
    "    def __init__(self, in_features, out_features):\n",
    "        #calls parent class nn.Module\n",
    "        super().__init__()\n",
    "        self.linear = nn.Linear(in_features, out_features)\n",
    "        # or (its same)\n",
    "        # self.in_features = in_features\n",
    "        # self.out_features = out_features\n",
    "        # self.bias = bias\n",
    "\n",
    "    def forward(self, x):\n",
    "        y_pred = self.linear(x)\n",
    "        return y_pred"
   ]
  },
  {
   "cell_type": "markdown",
   "metadata": {},
   "source": [
    "When <tt>Model</tt> is instantiated, we need to pass in the size (dimensions) of the incoming and outgoing features. For our purposes we'll use (1,1).<br>As above, we can see the initial hyperparameters."
   ]
  },
  {
   "cell_type": "code",
   "execution_count": 11,
   "metadata": {},
   "outputs": [
    {
     "name": "stdout",
     "output_type": "stream",
     "text": [
      "Model(\n",
      "  (linear): Linear(in_features=1, out_features=1, bias=True)\n",
      ")\n",
      "Weight: 0.10597813129425049\n",
      "Bias:  0.9637961387634277\n"
     ]
    }
   ],
   "source": [
    "torch.manual_seed(59)\n",
    "\n",
    "#passes no of incoming and outgoing features\n",
    "model= Model(1,1)\n",
    "print(model)\n",
    "print('Weight:', model.linear.weight.item())\n",
    "print('Bias: ',model.linear.bias.item())\n",
    "\n",
    "#model.linear.weight will give tensor"
   ]
  },
  {
   "cell_type": "markdown",
   "metadata": {},
   "source": [
    "As models become more complex, it may be better to iterate over all the model parameters:"
   ]
  },
  {
   "cell_type": "code",
   "execution_count": 12,
   "metadata": {},
   "outputs": [
    {
     "name": "stdout",
     "output_type": "stream",
     "text": [
      "linear.weight \t 0.10597813129425049\n",
      "linear.bias \t 0.9637961387634277\n"
     ]
    }
   ],
   "source": [
    "# second way of iterations\n",
    "for name, param in model.named_parameters():\n",
    "    print(name, '\\t', param.item())"
   ]
  },
  {
   "cell_type": "markdown",
   "metadata": {},
   "source": [
    "Now let's see the result when we pass a tensor into the model."
   ]
  },
  {
   "cell_type": "code",
   "execution_count": 13,
   "metadata": {},
   "outputs": [
    {
     "name": "stdout",
     "output_type": "stream",
     "text": [
      "tensor([1.1758], grad_fn=<AddBackward0>)\n"
     ]
    }
   ],
   "source": [
    "# passing just a random value to check if the model is working\n",
    "x= torch.tensor([2.0])\n",
    "print(model.forward(x))\n",
    "# forward is just a method which applies linear transformation y=w*X+b "
   ]
  },
  {
   "cell_type": "markdown",
   "metadata": {},
   "source": [
    "which is confirmed with $f(x) = (0.1060)(2.0)+(0.9638) = 1.1758$"
   ]
  },
  {
   "cell_type": "markdown",
   "metadata": {},
   "source": [
    "<a><u><h3> Plot the initial Model </a></u></h3>"
   ]
  },
  {
   "cell_type": "markdown",
   "metadata": {},
   "source": [
    "We can plot the untrained model against our dataset to get an idea of our starting point."
   ]
  },
  {
   "cell_type": "code",
   "execution_count": 14,
   "metadata": {},
   "outputs": [
    {
     "name": "stdout",
     "output_type": "stream",
     "text": [
      "Initial weight:  0.10597813129425049\n",
      "Initial bias:  0.9637961387634277\n",
      "x1=  [ 1. 50.]\n",
      "y1:-   [1.0697743 6.2627025]\n"
     ]
    }
   ],
   "source": [
    "w1 = model.linear.weight.item()\n",
    "b1 = model.linear.bias.item()\n",
    "print('Initial weight: ', w1)\n",
    "print('Initial bias: ', b1)\n",
    "\n",
    "# upper and lower boundaries\n",
    "x1= np.array([X.min(),X.max()])\n",
    "#mind that we have X not x\n",
    "print(\"x1= \",x1)\n",
    "\n",
    "y1 = x1*w1 +b1\n",
    "print(\"y1:-  \",y1)\n",
    "\n",
    "# y1,x1 will give us the line we are fitting\n"
   ]
  },
  {
   "cell_type": "code",
   "execution_count": 15,
   "metadata": {},
   "outputs": [
    {
     "data": {
      "image/png": "[encoded data removed]",
      "text/plain": [
       "<Figure size 432x288 with 1 Axes>"
      ]
     },
     "metadata": {
      "needs_background": "light"
     },
     "output_type": "display_data"
    }
   ],
   "source": [
    "plt.scatter(X.numpy(), y.numpy())\n",
    "# red line we are fitting\n",
    "plt.plot(x1,y1,'r')\n",
    "\n",
    "plt.title('Initial Model')\n",
    "plt.ylabel('y')\n",
    "plt.xlabel('x');"
   ]
  },
  {
   "cell_type": "markdown",
   "metadata": {},
   "source": [
    "<a><u><h3> SETTING THE LOSS fUNCTION </a></u></h3>"
   ]
  },
  {
   "cell_type": "markdown",
   "metadata": {},
   "source": [
    "built in - Mean Squared Error (MSE)\n",
    "\n",
    "By convention, you'll see the variable name \"criterion\" used, but feel free to use something like \"linear_loss_func\" if that's clearer.</em>"
   ]
  },
  {
   "cell_type": "code",
   "execution_count": 16,
   "metadata": {},
   "outputs": [],
   "source": [
    "criterion = nn.MSELoss()"
   ]
  },
  {
   "cell_type": "markdown",
   "metadata": {},
   "source": [
    "<a><u><h3> SETTING THE OPTIMIZATION </a></u></h3>"
   ]
  },
  {
   "cell_type": "markdown",
   "metadata": {},
   "source": [
    "Here we'll use <a>Stochastic Gradient Descent</a> (SGD) with an applied <a>learning rate</a> (lr) of 0.001.\n",
    "\n",
    "For more complicated (multivariate) data, you might also consider passing optional <a><tt>momentum</tt></a> and <a><tt>weight_decay</tt></a> arguments."
   ]
  },
  {
   "cell_type": "code",
   "execution_count": 17,
   "metadata": {},
   "outputs": [],
   "source": [
    "optimizer = torch.optim.SGD(model.parameters(), lr=0.001)\n",
    "# or lr = 1e-3"
   ]
  },
  {
   "cell_type": "markdown",
   "metadata": {},
   "source": [
    "<a><u><h3> Train the Model </a></u></h3>"
   ]
  },
  {
   "cell_type": "markdown",
   "metadata": {},
   "source": [
    "we know before thand tha weight = 2 and Bias =1.\n",
    "\n",
    "Now we need to train our model such that wight and bias converges to their original values."
   ]
  },
  {
   "cell_type": "markdown",
   "metadata": {},
   "source": [
    "<div class=\"alert alert-info\"><strong>Let's walk through the steps we're about to take:</strong><br>\n",
    "\n",
    "1. Set a reasonably large number of passes<br>\n",
    "<tt><font color=yellow>epochs = 50</font></tt><br>\n",
    "2. Create a list to store loss values. This will let us view our progress afterward.<br>\n",
    "<tt><font color=yellow>losses = []</font></tt><br>\n",
    "<tt><font color=yellow>for i in range(epochs):</font></tt><br>\n",
    "3. Bump \"i\" so that the printed report starts at 1<br>\n",
    "<tt><font color=yellow>&nbsp;&nbsp;&nbsp;&nbsp;i+=1</font></tt><br>\n",
    "4. Create a prediction set by running \"X\" through the current model parameters<br>\n",
    "<tt><font color=yellow>&nbsp;&nbsp;&nbsp;&nbsp;y_pred = model.forward(X)</font></tt><br>\n",
    "5. Calculate the loss<br>\n",
    "<tt><font color=yellow>&nbsp;&nbsp;&nbsp;&nbsp;loss = criterion(y_pred, y)</font></tt><br>\n",
    "6. Add the loss value to our tracking list<br>\n",
    "<tt><font color=yellow>&nbsp;&nbsp;&nbsp;&nbsp;losses.append(loss)</font></tt><br>\n",
    "7. Print the current line of results<br>\n",
    "<tt><font color=yellow>&nbsp;&nbsp;&nbsp;&nbsp;print(f'epoch: {i:2} loss: {loss.item():10.8f}')</font></tt><br>\n",
    "8. Gradients accumulate with every backprop. To prevent compounding we need to reset the stored gradient for each new epoch.<br>\n",
    "<tt><font color=yellow>&nbsp;&nbsp;&nbsp;&nbsp;optimizer.zero_grad()</font></tt><br>\n",
    "9. Now we can backprop<br>\n",
    "<tt><font color=yellow>&nbsp;&nbsp;&nbsp;&nbsp;loss.backward()</font></tt><br>\n",
    "10. Finally, we can update the hyperparameters of our model<br>\n",
    "<tt><font color=yellow>&nbsp;&nbsp;&nbsp;&nbsp;optimizer.step()</font></tt>\n",
    "</div>"
   ]
  },
  {
   "cell_type": "code",
   "execution_count": 41,
   "metadata": {},
   "outputs": [
    {
     "name": "stdout",
     "output_type": "stream",
     "text": [
      "epoch:  1 loss: 21.03310776 weight: 1.98277164 bias: 1.09101629\n",
      "epoch:  2 loss: 21.03262138 weight: 1.98275089 bias: 1.09171295\n",
      "epoch:  3 loss: 21.03214264 weight: 1.98273027 bias: 1.09240925\n",
      "epoch:  4 loss: 21.03165436 weight: 1.98270953 bias: 1.09310520\n",
      "epoch:  5 loss: 21.03117180 weight: 1.98268902 bias: 1.09380078\n",
      "epoch:  6 loss: 21.03068352 weight: 1.98266792 bias: 1.09449601\n",
      "epoch:  7 loss: 21.03020668 weight: 1.98264778 bias: 1.09519100\n",
      "epoch:  8 loss: 21.02972221 weight: 1.98262680 bias: 1.09588563\n",
      "epoch:  9 loss: 21.02923775 weight: 1.98260641 bias: 1.09657991\n",
      "epoch: 10 loss: 21.02875710 weight: 1.98258555 bias: 1.09727383\n",
      "epoch: 11 loss: 21.02827644 weight: 1.98256516 bias: 1.09796739\n",
      "epoch: 12 loss: 21.02779388 weight: 1.98254430 bias: 1.09866059\n",
      "epoch: 13 loss: 21.02731705 weight: 1.98252392 bias: 1.09935355\n",
      "epoch: 14 loss: 21.02683067 weight: 1.98250341 bias: 1.10004616\n",
      "epoch: 15 loss: 21.02635574 weight: 1.98248279 bias: 1.10073841\n",
      "epoch: 16 loss: 21.02587318 weight: 1.98246229 bias: 1.10143030\n",
      "epoch: 17 loss: 21.02539253 weight: 1.98244154 bias: 1.10212183\n",
      "epoch: 18 loss: 21.02491951 weight: 1.98242128 bias: 1.10281312\n",
      "epoch: 19 loss: 21.02443886 weight: 1.98240042 bias: 1.10350406\n",
      "epoch: 20 loss: 21.02396393 weight: 1.98238027 bias: 1.10419464\n",
      "epoch: 21 loss: 21.02348900 weight: 1.98235941 bias: 1.10488486\n",
      "epoch: 22 loss: 21.02301025 weight: 1.98233926 bias: 1.10557473\n",
      "epoch: 23 loss: 21.02253342 weight: 1.98231840 bias: 1.10626423\n",
      "epoch: 24 loss: 21.02206039 weight: 1.98229825 bias: 1.10695350\n",
      "epoch: 25 loss: 21.02158356 weight: 1.98227751 bias: 1.10764241\n",
      "epoch: 26 loss: 21.02111053 weight: 1.98225725 bias: 1.10833097\n",
      "epoch: 27 loss: 21.02063751 weight: 1.98223674 bias: 1.10901916\n",
      "epoch: 28 loss: 21.02016449 weight: 1.98221636 bias: 1.10970700\n",
      "epoch: 29 loss: 21.01968956 weight: 1.98219573 bias: 1.11039460\n",
      "epoch: 30 loss: 21.01921844 weight: 1.98217547 bias: 1.11108184\n",
      "epoch: 31 loss: 21.01874542 weight: 1.98215497 bias: 1.11176872\n",
      "epoch: 32 loss: 21.01827240 weight: 1.98213458 bias: 1.11245525\n",
      "epoch: 33 loss: 21.01779747 weight: 1.98211432 bias: 1.11314142\n",
      "epoch: 34 loss: 21.01733208 weight: 1.98209381 bias: 1.11382735\n",
      "epoch: 35 loss: 21.01685715 weight: 1.98207343 bias: 1.11451292\n",
      "epoch: 36 loss: 21.01638985 weight: 1.98205328 bias: 1.11519814\n",
      "epoch: 37 loss: 21.01592255 weight: 1.98203278 bias: 1.11588299\n",
      "epoch: 38 loss: 21.01545143 weight: 1.98201251 bias: 1.11656761\n",
      "epoch: 39 loss: 21.01498795 weight: 1.98199201 bias: 1.11725187\n",
      "epoch: 40 loss: 21.01451683 weight: 1.98197198 bias: 1.11793578\n",
      "epoch: 41 loss: 21.01404762 weight: 1.98195136 bias: 1.11861932\n",
      "epoch: 42 loss: 21.01357841 weight: 1.98193121 bias: 1.11930251\n",
      "epoch: 43 loss: 21.01311493 weight: 1.98191094 bias: 1.11998546\n",
      "epoch: 44 loss: 21.01264572 weight: 1.98189056 bias: 1.12066805\n",
      "epoch: 45 loss: 21.01218224 weight: 1.98187041 bias: 1.12135029\n",
      "epoch: 46 loss: 21.01171875 weight: 1.98185003 bias: 1.12203217\n",
      "epoch: 47 loss: 21.01125526 weight: 1.98182988 bias: 1.12271380\n",
      "epoch: 48 loss: 21.01079178 weight: 1.98180962 bias: 1.12339509\n",
      "epoch: 49 loss: 21.01032448 weight: 1.98178923 bias: 1.12407601\n",
      "epoch: 50 loss: 21.00986099 weight: 1.98176920 bias: 1.12475657\n"
     ]
    }
   ],
   "source": [
    "epochs = 50\n",
    "losses = []\n",
    "\n",
    "for i in range(epochs):\n",
    "    i=i+1\n",
    "    y_pred = model.forward(X)\n",
    "    loss  = criterion(y_pred,y)\n",
    "    losses.append(loss)\n",
    "    print(\"epoch: {:2} loss: {:10.8f} weight: {:10.8f} bias: {:10.8f}\" \\\n",
    "    .format(i, loss.item(), model.linear.weight.item(), model.linear.bias.item()))\n",
    "\n",
    "    optimizer.zero_grad()\n",
    "    loss.backward()\n",
    "    optimizer.step()"
   ]
  },
  {
   "cell_type": "markdown",
   "metadata": {},
   "source": [
    "<a><u><h3> Plot the Loss Value "
   ]
  },
  {
   "cell_type": "code",
   "execution_count": 42,
   "metadata": {},
   "outputs": [
    {
     "name": "stdout",
     "output_type": "stream",
     "text": [
      "[21.03310775756836, 21.032621383666992, 21.032142639160156, 21.031654357910156, 21.031171798706055, 21.030683517456055, 21.03020668029785, 21.029722213745117, 21.029237747192383, 21.028757095336914, 21.028276443481445, 21.027793884277344, 21.02731704711914, 21.026830673217773, 21.026355743408203, 21.0258731842041, 21.025392532348633, 21.024919509887695, 21.024438858032227, 21.023963928222656, 21.023488998413086, 21.02301025390625, 21.022533416748047, 21.02206039428711, 21.021583557128906, 21.02111053466797, 21.02063751220703, 21.020164489746094, 21.019689559936523, 21.01921844482422, 21.01874542236328, 21.018272399902344, 21.017797470092773, 21.017332077026367, 21.016857147216797, 21.016389846801758, 21.01592254638672, 21.015451431274414, 21.01498794555664, 21.014516830444336, 21.014047622680664, 21.013578414916992, 21.01311492919922, 21.012645721435547, 21.012182235717773, 21.01171875, 21.011255264282227, 21.010791778564453, 21.010324478149414, 21.00986099243164]\n"
     ]
    }
   ],
   "source": [
    "# convert loss(tensor) to list\n",
    "losses = [l.item() for l in losses]\n",
    "print(losses)"
   ]
  },
  {
   "cell_type": "code",
   "execution_count": 43,
   "metadata": {},
   "outputs": [
    {
     "data": {
      "text/plain": [
       "Text(0.5, 0, 'epoch')"
      ]
     },
     "execution_count": 43,
     "metadata": {},
     "output_type": "execute_result"
    },
    {
     "data": {
      "image/png": "[encoded data removed]",
      "text/plain": [
       "<Figure size 432x288 with 1 Axes>"
      ]
     },
     "metadata": {
      "needs_background": "light"
     },
     "output_type": "display_data"
    }
   ],
   "source": [
    "plt.plot(range(epochs), losses)\n",
    "plt.ylabel('MSE Loss')\n",
    "plt.xlabel('epoch')"
   ]
  },
  {
   "cell_type": "code",
   "execution_count": null,
   "metadata": {},
   "outputs": [],
   "source": []
  }
 ],
 "metadata": {
  "interpreter": {
   "hash": "b3ba2566441a7c06988d0923437866b63cedc61552a5af99d1f4fb67d367b25f"
  },
  "kernelspec": {
   "display_name": "Python 3.9.7 ('base')",
   "language": "python",
   "name": "python3"
  },
  "language_info": {
   "codemirror_mode": {
    "name": "ipython",
    "version": 3
   },
   "file_extension": ".py",
   "mimetype": "text/x-python",
   "name": "python",
   "nbconvert_exporter": "python",
   "pygments_lexer": "ipython3",
   "version": "3.9.7"
  },
  "orig_nbformat": 4
 },
 "nbformat": 4,
 "nbformat_minor": 2
}
