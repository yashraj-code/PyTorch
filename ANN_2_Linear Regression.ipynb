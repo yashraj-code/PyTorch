{
 "cells": [
  {
   "cell_type": "markdown",
   "metadata": {},
   "source": [
    "<a><h1> Linear Regression with PyTorch\n"
   ]
  },
  {
   "cell_type": "markdown",
   "metadata": {},
   "source": [
    "<h6>we're seeking to minimize the error between our model and the actual data, using a <em>loss function</em> like mean-squared-error."
   ]
  },
  {
   "cell_type": "markdown",
   "metadata": {},
   "source": [
    "<h6>we'll develop a collection of data points that appear random, but that fit a known linear equation y = 2x+1"
   ]
  },
  {
   "cell_type": "markdown",
   "metadata": {},
   "source": [
    "<a><u><h3> Perform standard imports"
   ]
  },
  {
   "cell_type": "code",
   "execution_count": 130,
   "metadata": {},
   "outputs": [],
   "source": [
    "import numpy as np\n",
    "import matplotlib.pyplot as plt\n",
    "\n",
    "import torch\n",
    "import torch.nn as nn\n"
   ]
  },
  {
   "cell_type": "markdown",
   "metadata": {},
   "source": [
    "<a><u><h3> Create a column matrix of X values"
   ]
  },
  {
   "cell_type": "code",
   "execution_count": 131,
   "metadata": {},
   "outputs": [
    {
     "name": "stdout",
     "output_type": "stream",
     "text": [
      "tensor([[ 1.],\n",
      "        [ 2.],\n",
      "        [ 3.],\n",
      "        [ 4.],\n",
      "        [ 5.],\n",
      "        [ 6.],\n",
      "        [ 7.],\n",
      "        [ 8.],\n",
      "        [ 9.],\n",
      "        [10.],\n",
      "        [11.],\n",
      "        [12.],\n",
      "        [13.],\n",
      "        [14.],\n",
      "        [15.],\n",
      "        [16.],\n",
      "        [17.],\n",
      "        [18.],\n",
      "        [19.],\n",
      "        [20.],\n",
      "        [21.],\n",
      "        [22.],\n",
      "        [23.],\n",
      "        [24.],\n",
      "        [25.],\n",
      "        [26.],\n",
      "        [27.],\n",
      "        [28.],\n",
      "        [29.],\n",
      "        [30.],\n",
      "        [31.],\n",
      "        [32.],\n",
      "        [33.],\n",
      "        [34.],\n",
      "        [35.],\n",
      "        [36.],\n",
      "        [37.],\n",
      "        [38.],\n",
      "        [39.],\n",
      "        [40.],\n",
      "        [41.],\n",
      "        [42.],\n",
      "        [43.],\n",
      "        [44.],\n",
      "        [45.],\n",
      "        [46.],\n",
      "        [47.],\n",
      "        [48.],\n",
      "        [49.],\n",
      "        [50.]])\n",
      "torch.Size([50, 1])\n"
     ]
    }
   ],
   "source": [
    "#CREATED X\n",
    "X= torch.linspace(1,50,50).reshape(-1,1)\n",
    "print(X)\n",
    "print(X.shape)\n",
    "\n",
    "#this will give 50 rows and 1 column"
   ]
  },
  {
   "cell_type": "markdown",
   "metadata": {},
   "source": [
    "<h6> Note that when we created tensor X, we did <em>not</em> pass <tt>requires_grad=True</tt>. This means that y doesn't have a gradient function, and <tt>y.backward()</tt> won't work. Since PyTorch is not tracking operations, it doesn't know the relationship between X and y."
   ]
  },
  {
   "cell_type": "markdown",
   "metadata": {},
   "source": [
    "<a><u><h3> Create a \"Random\" array of error values"
   ]
  },
  {
   "cell_type": "markdown",
   "metadata": {},
   "source": [
    "We want 50 random integer values that collectively cancel each other out."
   ]
  },
  {
   "cell_type": "code",
   "execution_count": 132,
   "metadata": {},
   "outputs": [
    {
     "name": "stdout",
     "output_type": "stream",
     "text": [
      "tensor(0.)\n"
     ]
    }
   ],
   "source": [
    "#CREATED ERROR\n",
    "torch.manual_seed(71)\n",
    "# this ensures whenever a random is generated it is same\n",
    "# to obtain reproducible results\n",
    "\n",
    "e=torch.randint(-8,9,(50,1),dtype=torch.float)\n",
    "\n",
    "# (50,1) is the o/p Size\n",
    "# -8,9 is the range\n",
    "\n",
    "#to ensure that they cancel each other\n",
    "print(e.sum())"
   ]
  },
  {
   "cell_type": "markdown",
   "metadata": {},
   "source": [
    "<a><u><h3> Create a column matrix of y values\n"
   ]
  },
  {
   "cell_type": "code",
   "execution_count": 133,
   "metadata": {},
   "outputs": [
    {
     "name": "stdout",
     "output_type": "stream",
     "text": [
      "torch.Size([50, 1])\n"
     ]
    }
   ],
   "source": [
    "#CREATED Y\n",
    "# WE will set our own parameters of weight =2, bias =1, plus the error amount.\n",
    "# y will have same shape as X and e\n",
    "\n",
    "y = 2*X + 1 + e\n",
    "print(y.shape)\n"
   ]
  },
  {
   "cell_type": "markdown",
   "metadata": {},
   "source": [
    "Now we know that we have used function y=2x +e <br>\n",
    "we will give x and y to the network and train it to predict complete function"
   ]
  },
  {
   "cell_type": "markdown",
   "metadata": {},
   "source": [
    "<a><u><h3> Plot the results </a></u></h3>\n",
    "We have to convert tensors to NumPy arrays just for plotting."
   ]
  },
  {
   "cell_type": "code",
   "execution_count": 134,
   "metadata": {},
   "outputs": [
    {
     "data": {
      "text/plain": [
       "Text(0.5, 0, 'x')"
      ]
     },
     "execution_count": 134,
     "metadata": {},
     "output_type": "execute_result"
    },
    {
     "data": {
      "image/png": "[encoded data removed]",
      "text/plain": [
       "<Figure size 432x288 with 1 Axes>"
      ]
     },
     "metadata": {
      "needs_background": "light"
     },
     "output_type": "display_data"
    }
   ],
   "source": [
    "plt.scatter(X.numpy(), y.numpy())\n",
    "plt.ylabel('y')\n",
    "plt.xlabel('x')"
   ]
  },
  {
   "cell_type": "markdown",
   "metadata": {},
   "source": [
    "<a><u><h3> Simple Linear model </a></u></h3>"
   ]
  },
  {
   "cell_type": "code",
   "execution_count": 135,
   "metadata": {},
   "outputs": [
    {
     "name": "stdout",
     "output_type": "stream",
     "text": [
      "Parameter containing:\n",
      "tensor([[0.1060]], requires_grad=True)\n",
      "Parameter containing:\n",
      "tensor([0.9638], requires_grad=True)\n"
     ]
    }
   ],
   "source": [
    "# built-in nn.Linear() model preselects weight and bias values randomly.\n",
    "\n",
    "torch.manual_seed(59)\n",
    "\n",
    "# nn.linear model conatains 3 parameters, 2 written below and one is bias = True \n",
    "model = nn.Linear(in_features=1, out_features=1)\n",
    "\n",
    "# in_features = 1 as we are giving only one x\n",
    "# out_feature = 1 as we are predicting only one y\n",
    "\n",
    "print(model.weight)\n",
    "print(model.bias)\n",
    "# observation - Automatically , requires_grad = True\n",
    "# now we will write & perform this in a class (below) "
   ]
  },
  {
   "cell_type": "markdown",
   "metadata": {},
   "source": [
    "<a><u><h3> Model classes </a></u></h3>\n",
    "\n",
    "PyTorch lets us define models as object classes that can store multiple model layers.<br>\n",
    " For now, though, we only need a single <tt>linear</tt> layer."
   ]
  },
  {
   "cell_type": "code",
   "execution_count": 136,
   "metadata": {},
   "outputs": [],
   "source": [
    "# nn.Module is base class for all Modules\n",
    "class Model(nn.Module):\n",
    "\n",
    "    #Constructor\n",
    "    def __init__(self, in_features, out_features):\n",
    "        #calls parent class nn.Module\n",
    "        super().__init__()\n",
    "        self.linear = nn.Linear(in_features, out_features)\n",
    "        # or (its same)\n",
    "        # self.in_features = in_features\n",
    "        # self.out_features = out_features\n",
    "        # self.bias = bias\n",
    "\n",
    "    def forward(self, x):\n",
    "        y_pred = self.linear(x)\n",
    "        return y_pred"
   ]
  },
  {
   "cell_type": "markdown",
   "metadata": {},
   "source": [
    "When <tt>Model</tt> is instantiated, we need to pass in the size (dimensions) of the incoming and outgoing features. For our purposes we'll use (1,1).<br>As above, we can see the initial hyperparameters."
   ]
  },
  {
   "cell_type": "code",
   "execution_count": 137,
   "metadata": {},
   "outputs": [
    {
     "name": "stdout",
     "output_type": "stream",
     "text": [
      "Model(\n",
      "  (linear): Linear(in_features=1, out_features=1, bias=True)\n",
      ")\n",
      "Weight: 0.10597813129425049\n",
      "Bias:  0.9637961387634277\n"
     ]
    }
   ],
   "source": [
    "torch.manual_seed(59)\n",
    "\n",
    "#passes no of incoming and outgoing features\n",
    "model= Model(1,1)\n",
    "print(model)\n",
    "print('Weight:', model.linear.weight.item())\n",
    "print('Bias: ',model.linear.bias.item())\n",
    "\n",
    "#model.linear.weight will give tensor"
   ]
  },
  {
   "cell_type": "markdown",
   "metadata": {},
   "source": [
    "As models become more complex, it may be better to iterate over all the model parameters:"
   ]
  },
  {
   "cell_type": "code",
   "execution_count": 138,
   "metadata": {},
   "outputs": [
    {
     "name": "stdout",
     "output_type": "stream",
     "text": [
      "linear.weight \t 0.10597813129425049\n",
      "linear.bias \t 0.9637961387634277\n"
     ]
    }
   ],
   "source": [
    "# second way of iterations\n",
    "for name, param in model.named_parameters():\n",
    "    print(name, '\\t', param.item())"
   ]
  },
  {
   "cell_type": "markdown",
   "metadata": {},
   "source": [
    "Now let's see the result when we pass a tensor into the model."
   ]
  },
  {
   "cell_type": "code",
   "execution_count": 139,
   "metadata": {},
   "outputs": [
    {
     "name": "stdout",
     "output_type": "stream",
     "text": [
      "tensor([1.1758], grad_fn=<AddBackward0>)\n"
     ]
    }
   ],
   "source": [
    "# passing just a random value to check if the model is working\n",
    "x= torch.tensor([2.0])\n",
    "print(model.forward(x))\n",
    "# forward is just a method which applies linear transformation y=w*X+b "
   ]
  },
  {
   "cell_type": "markdown",
   "metadata": {},
   "source": [
    "which is confirmed with $f(x) = (0.1060)(2.0)+(0.9638) = 1.1758$"
   ]
  },
  {
   "cell_type": "markdown",
   "metadata": {},
   "source": [
    "<a><u><h3> Plot the initial Model </a></u></h3>"
   ]
  },
  {
   "cell_type": "markdown",
   "metadata": {},
   "source": [
    "We can plot the untrained model against our dataset to get an idea of our starting point."
   ]
  },
  {
   "cell_type": "code",
   "execution_count": 140,
   "metadata": {},
   "outputs": [
    {
     "name": "stdout",
     "output_type": "stream",
     "text": [
      "Initial weight:  0.10597813129425049\n",
      "Initial bias:  0.9637961387634277\n",
      "x1=  [ 1. 50.]\n",
      "y1:-   [1.0697743 6.2627025]\n"
     ]
    }
   ],
   "source": [
    "w1 = model.linear.weight.item()\n",
    "b1 = model.linear.bias.item()\n",
    "print('Initial weight: ', w1)\n",
    "print('Initial bias: ', b1)\n",
    "\n",
    "# upper and lower boundaries\n",
    "x1= np.array([X.min(),X.max()])\n",
    "#mind that we have X not x\n",
    "print(\"x1= \",x1)\n",
    "\n",
    "y1 = x1*w1 +b1\n",
    "print(\"y1:-  \",y1)\n",
    "\n",
    "# y1,x1 will give us the line we are fitting\n"
   ]
  },
  {
   "cell_type": "code",
   "execution_count": 141,
   "metadata": {},
   "outputs": [
    {
     "data": {
      "image/png": "[encoded data removed]",
      "text/plain": [
       "<Figure size 432x288 with 1 Axes>"
      ]
     },
     "metadata": {
      "needs_background": "light"
     },
     "output_type": "display_data"
    }
   ],
   "source": [
    "plt.scatter(X.numpy(), y.numpy())\n",
    "# red line we are fitting\n",
    "plt.plot(x1,y1,'r')\n",
    "\n",
    "plt.title('Initial Model')\n",
    "plt.ylabel('y')\n",
    "plt.xlabel('x');"
   ]
  },
  {
   "cell_type": "markdown",
   "metadata": {},
   "source": [
    "<a><u><h3> SETTING THE LOSS fUNCTION </a></u></h3>"
   ]
  },
  {
   "cell_type": "markdown",
   "metadata": {},
   "source": [
    "built in - Mean Squared Error (MSE)\n",
    "\n",
    "By convention, you'll see the variable name \"criterion\" used, but feel free to use something like \"linear_loss_func\" if that's clearer.</em>"
   ]
  },
  {
   "cell_type": "code",
   "execution_count": 142,
   "metadata": {},
   "outputs": [],
   "source": [
    "criterion = nn.MSELoss()"
   ]
  },
  {
   "cell_type": "markdown",
   "metadata": {},
   "source": [
    "<a><u><h3> SETTING THE OPTIMIZATION </a></u></h3>"
   ]
  },
  {
   "cell_type": "markdown",
   "metadata": {},
   "source": [
    "Here we'll use <a>Stochastic Gradient Descent</a> (SGD) with an applied <a>learning rate</a> (lr) of 0.001.\n",
    "\n",
    "For more complicated (multivariate) data, you might also consider passing optional <a><tt>momentum</tt></a> and <a><tt>weight_decay</tt></a> arguments."
   ]
  },
  {
   "cell_type": "code",
   "execution_count": 143,
   "metadata": {},
   "outputs": [],
   "source": [
    "optimizer = torch.optim.SGD(model.parameters(), lr=0.001)\n",
    "# or lr = 1e-3"
   ]
  },
  {
   "cell_type": "markdown",
   "metadata": {},
   "source": [
    "<a><u><h3> Train the Model </a></u></h3>"
   ]
  },
  {
   "cell_type": "markdown",
   "metadata": {},
   "source": [
    "we know before thand tha weight = 2 and Bias =1.\n",
    "\n",
    "Now we need to train our model such that wight and bias converges to their original values."
   ]
  },
  {
   "cell_type": "markdown",
   "metadata": {},
   "source": [
    "<div class=\"alert alert-info\"><strong>Let's walk through the steps we're about to take:</strong><br>\n",
    "\n",
    "1. Set a reasonably large number of passes<br>\n",
    "<tt><font color=yellow>epochs = 50</font></tt><br>\n",
    "2. Create a list to store loss values. This will let us view our progress afterward.<br>\n",
    "<tt><font color=yellow>losses = []</font></tt><br>\n",
    "<tt><font color=yellow>for i in range(epochs):</font></tt><br>\n",
    "3. Bump \"i\" so that the printed report starts at 1<br>\n",
    "<tt><font color=yellow>&nbsp;&nbsp;&nbsp;&nbsp;i+=1</font></tt><br>\n",
    "4. Create a prediction set by running \"X\" through the current model parameters<br>\n",
    "<tt><font color=yellow>&nbsp;&nbsp;&nbsp;&nbsp;y_pred = model.forward(X)</font></tt><br>\n",
    "5. Calculate the loss<br>\n",
    "<tt><font color=yellow>&nbsp;&nbsp;&nbsp;&nbsp;loss = criterion(y_pred, y)</font></tt><br>\n",
    "6. Add the loss value to our tracking list<br>\n",
    "<tt><font color=yellow>&nbsp;&nbsp;&nbsp;&nbsp;losses.append(loss)</font></tt><br>\n",
    "7. Print the current line of results<br>\n",
    "<tt><font color=yellow>&nbsp;&nbsp;&nbsp;&nbsp;print(f'epoch: {i:2} loss: {loss.item():10.8f}')</font></tt><br>\n",
    "8. Gradients accumulate with every backprop. To prevent compounding we need to reset the stored gradient for each new epoch.<br>\n",
    "<tt><font color=yellow>&nbsp;&nbsp;&nbsp;&nbsp;optimizer.zero_grad()</font></tt><br>\n",
    "9. Now we can backprop<br>\n",
    "<tt><font color=yellow>&nbsp;&nbsp;&nbsp;&nbsp;loss.backward()</font></tt><br>\n",
    "10. Finally, we can update the hyperparameters of our model<br>\n",
    "<tt><font color=yellow>&nbsp;&nbsp;&nbsp;&nbsp;optimizer.step()</font></tt>\n",
    "</div>"
   ]
  },
  {
   "cell_type": "code",
   "execution_count": 144,
   "metadata": {},
   "outputs": [
    {
     "name": "stdout",
     "output_type": "stream",
     "text": [
      "epoch:  1 loss: 3057.21679688 weight: 0.10597813 bias: 0.96379614\n",
      "epoch:  2 loss: 1588.53112793 weight: 3.33490038 bias: 1.06046367\n",
      "epoch:  3 loss: 830.29998779 weight: 1.01483274 bias: 0.99226284\n",
      "epoch:  4 loss: 438.85241699 weight: 2.68179965 bias: 1.04252183\n",
      "epoch:  5 loss: 236.76152039 weight: 1.48402119 bias: 1.00766504\n",
      "epoch:  6 loss: 132.42912292 weight: 2.34460592 bias: 1.03396463\n",
      "epoch:  7 loss: 78.56572723 weight: 1.72622538 bias: 1.01632178\n",
      "epoch:  8 loss: 50.75775909 weight: 2.17050409 bias: 1.03025162\n",
      "epoch:  9 loss: 36.40123367 weight: 1.85124576 bias: 1.02149546\n",
      "epoch: 10 loss: 28.98922920 weight: 2.08060074 bias: 1.02903891\n",
      "epoch: 11 loss: 25.16238213 weight: 1.91576838 bias: 1.02487016\n",
      "epoch: 12 loss: 23.18647385 weight: 2.03416562 bias: 1.02911627\n",
      "epoch: 13 loss: 22.16612625 weight: 1.94905841 bias: 1.02731562\n",
      "epoch: 14 loss: 21.63911057 weight: 2.01017213 bias: 1.02985907\n",
      "epoch: 15 loss: 21.36677170 weight: 1.96622372 bias: 1.02928054\n",
      "epoch: 16 loss: 21.22591782 weight: 1.99776423 bias: 1.03094459\n",
      "epoch: 17 loss: 21.15294647 weight: 1.97506487 bias: 1.03099668\n",
      "epoch: 18 loss: 21.11500931 weight: 1.99133754 bias: 1.03220642\n",
      "epoch: 19 loss: 21.09517670 weight: 1.97960854 bias: 1.03258383\n",
      "epoch: 20 loss: 21.08468437 weight: 1.98799884 bias: 1.03355861\n",
      "epoch: 21 loss: 21.07901382 weight: 1.98193336 bias: 1.03410351\n",
      "epoch: 22 loss: 21.07583046 weight: 1.98625445 bias: 1.03495669\n",
      "epoch: 23 loss: 21.07393837 weight: 1.98311269 bias: 1.03558779\n",
      "epoch: 24 loss: 21.07270050 weight: 1.98533309 bias: 1.03637791\n",
      "epoch: 25 loss: 21.07181931 weight: 1.98370099 bias: 1.03705311\n",
      "epoch: 26 loss: 21.07110596 weight: 1.98483658 bias: 1.03781021\n",
      "epoch: 27 loss: 21.07048607 weight: 1.98398376 bias: 1.03850794\n",
      "epoch: 28 loss: 21.06991386 weight: 1.98455977 bias: 1.03924775\n",
      "epoch: 29 loss: 21.06936836 weight: 1.98410904 bias: 1.03995669\n",
      "epoch: 30 loss: 21.06883812 weight: 1.98439610 bias: 1.04068720\n",
      "epoch: 31 loss: 21.06830788 weight: 1.98415291 bias: 1.04140162\n",
      "epoch: 32 loss: 21.06778145 weight: 1.98429084 bias: 1.04212701\n",
      "epoch: 33 loss: 21.06726074 weight: 1.98415494 bias: 1.04284394\n",
      "epoch: 34 loss: 21.06674004 weight: 1.98421574 bias: 1.04356635\n",
      "epoch: 35 loss: 21.06622505 weight: 1.98413551 bias: 1.04428422\n",
      "epoch: 36 loss: 21.06570816 weight: 1.98415649 bias: 1.04500473\n",
      "epoch: 37 loss: 21.06518745 weight: 1.98410451 bias: 1.04572272\n",
      "epoch: 38 loss: 21.06466866 weight: 1.98410523 bias: 1.04644191\n",
      "epoch: 39 loss: 21.06415749 weight: 1.98406804 bias: 1.04715967\n",
      "epoch: 40 loss: 21.06363678 weight: 1.98405814 bias: 1.04787791\n",
      "epoch: 41 loss: 21.06312561 weight: 1.98402870 bias: 1.04859519\n",
      "epoch: 42 loss: 21.06260681 weight: 1.98401320 bias: 1.04931259\n",
      "epoch: 43 loss: 21.06209564 weight: 1.98398757 bias: 1.05002928\n",
      "epoch: 44 loss: 21.06157684 weight: 1.98396957 bias: 1.05074584\n",
      "epoch: 45 loss: 21.06106949 weight: 1.98394585 bias: 1.05146194\n",
      "epoch: 46 loss: 21.06055450 weight: 1.98392630 bias: 1.05217779\n",
      "epoch: 47 loss: 21.06004333 weight: 1.98390377 bias: 1.05289316\n",
      "epoch: 48 loss: 21.05953217 weight: 1.98388338 bias: 1.05360830\n",
      "epoch: 49 loss: 21.05901337 weight: 1.98386145 bias: 1.05432308\n",
      "epoch: 50 loss: 21.05850983 weight: 1.98384094 bias: 1.05503750\n"
     ]
    }
   ],
   "source": [
    "epochs = 50\n",
    "losses = []\n",
    "\n",
    "for i in range(epochs):\n",
    "    i=i+1\n",
    "    y_pred = model.forward(X)\n",
    "    loss  = criterion(y_pred,y)\n",
    "    losses.append(loss.item())\n",
    "    print(\"epoch: {:2} loss: {:10.8f} weight: {:10.8f} bias: {:10.8f}\" \\\n",
    "    .format(i, loss.item(), model.linear.weight.item(), model.linear.bias.item()))\n",
    "\n",
    "    optimizer.zero_grad()\n",
    "    loss.backward()\n",
    "    optimizer.step()"
   ]
  },
  {
   "cell_type": "markdown",
   "metadata": {},
   "source": [
    "<a><u><h3> Plot the Loss Value "
   ]
  },
  {
   "cell_type": "code",
   "execution_count": 145,
   "metadata": {},
   "outputs": [
    {
     "data": {
      "text/plain": [
       "Text(0.5, 0, 'epoch')"
      ]
     },
     "execution_count": 145,
     "metadata": {},
     "output_type": "execute_result"
    },
    {
     "data": {
      "image/png": "[encoded data removed]",
      "text/plain": [
       "<Figure size 432x288 with 1 Axes>"
      ]
     },
     "metadata": {
      "needs_background": "light"
     },
     "output_type": "display_data"
    }
   ],
   "source": [
    "plt.plot(range(epochs), losses)\n",
    "plt.ylabel('MSE Loss')\n",
    "plt.xlabel('epoch')"
   ]
  },
  {
   "cell_type": "markdown",
   "metadata": {},
   "source": [
    "<a><u><h3> Plot the Result"
   ]
  },
  {
   "cell_type": "markdown",
   "metadata": {},
   "source": [
    "Now we'll derive <tt>y1</tt> from the new model to plot the most recent best-fit line."
   ]
  },
  {
   "cell_type": "code",
   "execution_count": 146,
   "metadata": {},
   "outputs": [
    {
     "name": "stdout",
     "output_type": "stream",
     "text": [
      "Current weight: 1.98381913, Current bias: 1.05575156\n",
      "\n",
      "[ 1. 50.]\n",
      "[  3.0395708 100.246704 ]\n"
     ]
    }
   ],
   "source": [
    "w1,b1 = model.linear.weight.item(), model.linear.bias.item()\n",
    "print(f'Current weight: {w1:.8f}, Current bias: {b1:.8f}')\n",
    "print()\n",
    "\n",
    "y1 = x1*w1 + b1\n",
    "print(x1)\n",
    "print(y1)"
   ]
  },
  {
   "cell_type": "code",
   "execution_count": 147,
   "metadata": {},
   "outputs": [
    {
     "data": {
      "image/png": "[encoded data removed]",
      "text/plain": [
       "<Figure size 432x288 with 1 Axes>"
      ]
     },
     "metadata": {
      "needs_background": "light"
     },
     "output_type": "display_data"
    }
   ],
   "source": [
    "plt.scatter(X.numpy(), y.numpy())\n",
    "plt.plot(x1,y1,'r')\n",
    "plt.title('Current Model')\n",
    "plt.ylabel('y')\n",
    "plt.xlabel('x');"
   ]
  },
  {
   "cell_type": "code",
   "execution_count": null,
   "metadata": {},
   "outputs": [],
   "source": []
  }
 ],
 "metadata": {
  "interpreter": {
   "hash": "b3ba2566441a7c06988d0923437866b63cedc61552a5af99d1f4fb67d367b25f"
  },
  "kernelspec": {
   "display_name": "Python 3.9.7 ('base')",
   "language": "python",
   "name": "python3"
  },
  "language_info": {
   "codemirror_mode": {
    "name": "ipython",
    "version": 3
   },
   "file_extension": ".py",
   "mimetype": "text/x-python",
   "name": "python",
   "nbconvert_exporter": "python",
   "pygments_lexer": "ipython3",
   "version": "3.9.7"
  },
  "orig_nbformat": 4
 },
 "nbformat": 4,
 "nbformat_minor": 2
}
