{
 "cells": [
  {
   "cell_type": "markdown",
   "metadata": {},
   "source": [
    "# PyTorch Gradients\n",
    "<a><strong><tt>autograd</tt></strong></a> implementation of gradient descent. \n",
    "* <a><tt><strong>torch.autograd.backward()</strong></tt></a>\n",
    "* <a ><tt><strong>torch.autograd.grad()</strong></tt></a>"
   ]
  },
  {
   "cell_type": "markdown",
   "metadata": {},
   "source": [
    "## Autograd - Automatic Differentiation\n",
    "\n",
    "The PyTorch <a><strong><tt>autograd</tt></strong></a> package provides automatic differentiation for all operations on Tensors. \n",
    "This is because operations become attributes of the tensors themselves. \n",
    "\n",
    "When a Tensors <tt>.requires_grad</tt> attribute is set to True, it starts to track all operations on it.\n",
    "\n",
    "When an operation finishes you can call <tt>.backward()</tt> and have all the gradients computed automatically.\n",
    "\n",
    "The gradient for a tensor will be accumulated into its <tt>.grad</tt> attribute."
   ]
  },
  {
   "cell_type": "markdown",
   "metadata": {},
   "source": [
    "<h4> <a><u> Back-Propogation"
   ]
  },
  {
   "cell_type": "code",
   "execution_count": 2,
   "metadata": {},
   "outputs": [],
   "source": [
    "import torch"
   ]
  },
  {
   "cell_type": "code",
   "execution_count": null,
   "metadata": {},
   "outputs": [],
   "source": [
    "#create a tensor to track all the operations on it\n",
    "x=torch.tensor(2,requires_grad=True)\n",
    "\n",
    "# Defined a function"
   ]
  }
 ],
 "metadata": {
  "interpreter": {
   "hash": "b3ba2566441a7c06988d0923437866b63cedc61552a5af99d1f4fb67d367b25f"
  },
  "kernelspec": {
   "display_name": "Python 3.9.7 ('base')",
   "language": "python",
   "name": "python3"
  },
  "language_info": {
   "codemirror_mode": {
    "name": "ipython",
    "version": 3
   },
   "file_extension": ".py",
   "mimetype": "text/x-python",
   "name": "python",
   "nbconvert_exporter": "python",
   "pygments_lexer": "ipython3",
   "version": "3.9.7"
  },
  "orig_nbformat": 4
 },
 "nbformat": 4,
 "nbformat_minor": 2
}
