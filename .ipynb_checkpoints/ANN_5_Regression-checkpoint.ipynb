{
 "cells": [
  {
   "cell_type": "code",
   "execution_count": 1,
   "id": "9062dfd7",
   "metadata": {},
   "outputs": [],
   "source": [
    "import torch\n",
    "import torch.nn as nn\n",
    "import torch.nn.functional as F"
   ]
  },
  {
   "cell_type": "code",
   "execution_count": 2,
   "id": "5b55d22d",
   "metadata": {},
   "outputs": [],
   "source": [
    "from sklearn.model_selection import train_test_split"
   ]
  },
  {
   "cell_type": "code",
   "execution_count": 3,
   "id": "37d2b486",
   "metadata": {},
   "outputs": [],
   "source": [
    "import numpy as np\n",
    "import pandas as pd\n",
    "import matplotlib.pyplot as plt"
   ]
  },
  {
   "cell_type": "code",
   "execution_count": 4,
   "id": "3d4eda90",
   "metadata": {},
   "outputs": [],
   "source": [
    "address=r\"C:\\Users\\Yashraj\\OneDrive - IIT Hyderabad\\IC_Analysis\\0. Main\\CC_gaussian _Cleaned_IC Curve (final)\\features\"\n",
    "\n",
    "database=pd.read_pickle(address)"
   ]
  },
  {
   "cell_type": "code",
   "execution_count": 5,
   "id": "6072b4c9",
   "metadata": {},
   "outputs": [
    {
     "data": {
      "text/plain": [
       "Index(['max_ic', 'max_v', 'max2_ic', 'max2_v', 'slope_left', 'slope_right',\n",
       "       'Q_AtoB', 'Q_LtoR', 'energy', 'ic_capacity', 'capacity'],\n",
       "      dtype='object')"
      ]
     },
     "execution_count": 5,
     "metadata": {},
     "output_type": "execute_result"
    }
   ],
   "source": [
    "database.columns"
   ]
  },
  {
   "cell_type": "code",
   "execution_count": 6,
   "id": "2df57acd",
   "metadata": {},
   "outputs": [
    {
     "name": "stdout",
     "output_type": "stream",
     "text": [
      "     max_ic     max_v   max2_ic    max2_v  slope_left  slope_right    Q_AtoB  \\\n",
      "0  0.737257  0.000000  0.867198  0.053492    0.840186     0.992698  0.428870   \n",
      "1  0.947132  0.040948  0.746352  0.051755    1.000000     0.723986  0.608838   \n",
      "2  0.950254  0.126715  0.480532  0.124457    0.809395     0.717554  0.746752   \n",
      "3  0.662546  0.134988  0.490396  0.109743    0.437445     0.827709  0.745541   \n",
      "4  0.097398  0.182052  0.305175  0.206509    0.203589     0.969810  0.240495   \n",
      "\n",
      "     Q_LtoR    energy  \n",
      "0  0.698782  0.207411  \n",
      "1  0.759181  0.209250  \n",
      "2  1.000000  0.167208  \n",
      "3  0.722213  0.144526  \n",
      "4  0.107765  0.085356  \n"
     ]
    }
   ],
   "source": [
    "# copy the data\n",
    "data = database.__deepcopy__()\n",
    "data.drop(['ic_capacity', 'capacity'],axis=1,inplace=True)\n",
    "\n",
    "# apply normalization techniques\n",
    "for column in data.columns:\n",
    "    data[column] = (data[column] - data[column].min()) / (data[column].max() - data[column].min())\n",
    "    \n",
    "# view normalized data\n",
    "print(data.head())\n"
   ]
  },
  {
   "cell_type": "code",
   "execution_count": 7,
   "id": "80dbb7b4",
   "metadata": {},
   "outputs": [
    {
     "name": "stdout",
     "output_type": "stream",
     "text": [
      "(48, 9)\n",
      "(48, 1)\n"
     ]
    }
   ],
   "source": [
    "#X=data.drop(['ic_capacity', 'capacity'],axis=1).values\n",
    "X=data.values\n",
    "y= database['capacity'].values.reshape(-1,1)\n",
    "print(X.shape)\n",
    "print(y.shape)"
   ]
  },
  {
   "cell_type": "code",
   "execution_count": 8,
   "id": "5b2f4761",
   "metadata": {},
   "outputs": [],
   "source": [
    "X_train, X_test, y_train, y_test = train_test_split(X,y,test_size=0.2,random_state=33)\n",
    "\n",
    "X_train = torch.FloatTensor(X_train)\n",
    "X_test = torch.FloatTensor(X_test)\n",
    "y_train = torch.FloatTensor(y_train)\n",
    "y_test = torch.FloatTensor(y_test)"
   ]
  },
  {
   "cell_type": "markdown",
   "id": "6168ba5a",
   "metadata": {},
   "source": [
    "<a><h3><u> Create a Model Class"
   ]
  },
  {
   "cell_type": "code",
   "execution_count": 9,
   "id": "92af7ba3",
   "metadata": {},
   "outputs": [],
   "source": [
    "# input - 9 features so 9 NEURONS\n",
    "# 2 hiden layers of 18, 20 NEURONS each\n",
    "# output layer  = 3 categories so , 3 NEURONS\n",
    "\n",
    "# pre activation function - (aggregator) - Linear function - W*X+B\n",
    "# Activation function - Relu\n",
    "\n",
    "# loss - MSE (as we need probabilities)\n",
    "# algorithm - Adam "
   ]
  },
  {
   "cell_type": "code",
   "execution_count": 10,
   "id": "4c2cab03",
   "metadata": {},
   "outputs": [],
   "source": [
    "class TabularModel(nn.Module):\n",
    "\n",
    "    def __init__(self, n_cont, out_sz, layers):\n",
    "        super().__init__()\n",
    "        \n",
    "        self.bn_cont = nn.BatchNorm1d(n_cont)\n",
    "        \n",
    "        layerlist = []\n",
    "        \n",
    "        for i in layers:\n",
    "            layerlist.append(nn.Linear(n_cont,i)) \n",
    "            layerlist.append(nn.ReLU(inplace=True))\n",
    "            layerlist.append(nn.BatchNorm1d(i))\n",
    "            n_cont = i\n",
    "        layerlist.append(nn.Linear(layers[-1],out_sz))\n",
    "            \n",
    "        self.layers = nn.Sequential(*layerlist)\n",
    "    \n",
    "    def forward(self, x):\n",
    "        \n",
    "        x = self.bn_cont(x)\n",
    "        x = self.layers(x)\n",
    "        return x"
   ]
  },
  {
   "cell_type": "code",
   "execution_count": 11,
   "id": "ae7f34e3",
   "metadata": {},
   "outputs": [],
   "source": [
    "torch.manual_seed(33)\n",
    "model = TabularModel(X.shape[1], 1, [16,32,64,32,16])"
   ]
  },
  {
   "cell_type": "code",
   "execution_count": 12,
   "id": "3fcfee65",
   "metadata": {},
   "outputs": [
    {
     "data": {
      "text/plain": [
       "TabularModel(\n",
       "  (bn_cont): BatchNorm1d(9, eps=1e-05, momentum=0.1, affine=True, track_running_stats=True)\n",
       "  (layers): Sequential(\n",
       "    (0): Linear(in_features=9, out_features=16, bias=True)\n",
       "    (1): ReLU(inplace=True)\n",
       "    (2): BatchNorm1d(16, eps=1e-05, momentum=0.1, affine=True, track_running_stats=True)\n",
       "    (3): Linear(in_features=16, out_features=32, bias=True)\n",
       "    (4): ReLU(inplace=True)\n",
       "    (5): BatchNorm1d(32, eps=1e-05, momentum=0.1, affine=True, track_running_stats=True)\n",
       "    (6): Linear(in_features=32, out_features=64, bias=True)\n",
       "    (7): ReLU(inplace=True)\n",
       "    (8): BatchNorm1d(64, eps=1e-05, momentum=0.1, affine=True, track_running_stats=True)\n",
       "    (9): Linear(in_features=64, out_features=32, bias=True)\n",
       "    (10): ReLU(inplace=True)\n",
       "    (11): BatchNorm1d(32, eps=1e-05, momentum=0.1, affine=True, track_running_stats=True)\n",
       "    (12): Linear(in_features=32, out_features=16, bias=True)\n",
       "    (13): ReLU(inplace=True)\n",
       "    (14): BatchNorm1d(16, eps=1e-05, momentum=0.1, affine=True, track_running_stats=True)\n",
       "    (15): Linear(in_features=16, out_features=1, bias=True)\n",
       "  )\n",
       ")"
      ]
     },
     "execution_count": 12,
     "metadata": {},
     "output_type": "execute_result"
    }
   ],
   "source": [
    "model"
   ]
  },
  {
   "cell_type": "markdown",
   "id": "91ce61e4",
   "metadata": {},
   "source": [
    "<a><h3><u> Define loss function & optimizer"
   ]
  },
  {
   "cell_type": "code",
   "execution_count": 13,
   "id": "dc1f18ed",
   "metadata": {},
   "outputs": [],
   "source": [
    "criterion = nn.MSELoss()  # we'll convert this to RMSE later\n",
    "optimizer = torch.optim.Adam(model.parameters(), lr=0.01)"
   ]
  },
  {
   "cell_type": "code",
   "execution_count": 14,
   "id": "6f2f1f31",
   "metadata": {},
   "outputs": [
    {
     "name": "stdout",
     "output_type": "stream",
     "text": [
      "epoch:  0  loss: 2264.33715820\n",
      "epoch: 100  loss: 2231.72509766\n",
      "epoch: 200  loss: 2114.96240234\n",
      "epoch: 300  loss: 1908.80664062\n",
      "epoch: 400  loss: 1616.72070312\n",
      "epoch: 500  loss: 1242.31311035\n",
      "epoch: 600  loss: 788.90032959\n",
      "epoch: 700  loss: 259.55062866\n",
      "epoch: 800  loss: 1.79555392\n",
      "epoch: 900  loss: 1.03250992\n",
      "epoch: 1000  loss: 0.57567519\n",
      "epoch: 1100  loss: 0.31639457\n",
      "epoch: 1200  loss: 0.51296180\n",
      "epoch: 1300  loss: 0.39385563\n",
      "epoch: 1400  loss: 0.15618546\n",
      "epoch: 1500  loss: 0.33870673\n",
      "epoch: 1600  loss: 0.22712998\n",
      "epoch: 1700  loss: 0.24346578\n",
      "epoch: 1800  loss: 0.22103836\n",
      "epoch: 1900  loss: 0.44320193\n",
      "epoch: 2000  loss: 0.37825564\n"
     ]
    }
   ],
   "source": [
    "epochs = 2001\n",
    "losses = []\n",
    "\n",
    "for i in range(epochs):\n",
    "    \n",
    "    y_pred = model.forward(X_train)\n",
    "    loss = torch.sqrt(criterion(y_pred, y_train))\n",
    "    losses.append(loss.item())\n",
    "\n",
    "# a neat trick to save screen space:\n",
    "    if i%100 == 0:\n",
    "        print(f'epoch: {i:2}  loss: {loss.item():10.8f}')\n",
    "\n",
    "    optimizer.zero_grad()\n",
    "    loss.backward()\n",
    "    optimizer.step()\n"
   ]
  },
  {
   "cell_type": "code",
   "execution_count": 15,
   "id": "6048bed4",
   "metadata": {},
   "outputs": [
    {
     "data": {
      "image/png": "[encoded data removed]",
      "text/plain": [
       "<Figure size 432x288 with 1 Axes>"
      ]
     },
     "metadata": {
      "needs_background": "light"
     },
     "output_type": "display_data"
    }
   ],
   "source": [
    "plt.plot(range(epochs), losses)\n",
    "plt.ylabel('Loss')\n",
    "plt.xlabel('epoch');"
   ]
  },
  {
   "cell_type": "code",
   "execution_count": 22,
   "id": "cfe49bab",
   "metadata": {},
   "outputs": [
    {
     "name": "stdout",
     "output_type": "stream",
     "text": [
      "99.44358063\n"
     ]
    }
   ],
   "source": [
    "# To Evaluate the Entire Test set\n",
    "# no_grad ensure that gradient is not calculated and weights and bias are not updated\n",
    "\n",
    "with torch.no_grad():\n",
    "    y_val = model.forward(X_test)\n",
    "    loss = torch.sqrt(criterion(y_val , y_test))\n",
    "print(f'{loss:10.8f}')\n"
   ]
  },
  {
   "cell_type": "code",
   "execution_count": 23,
   "id": "b86fad6d",
   "metadata": {},
   "outputs": [
    {
     "name": "stdout",
     "output_type": "stream",
     "text": [
      "   PREDICTED   ACTUAL     DIFF\n",
      " 1. 2241.5889 2248.3000   6.7112\n",
      " 2. 2350.6997 2310.4836  40.2161\n",
      " 3. 2267.0195 2258.8999   8.1196\n",
      " 4. 2198.8813 2219.8000  20.9187\n",
      " 5. 2270.0842 2259.1001  10.9841\n",
      " 6. 2155.7930 1846.5000 309.2930\n",
      " 7. 2217.5964 2216.7000   0.8965\n",
      " 8. 2278.7979 2264.6001  14.1978\n",
      " 9. 2307.0342 2288.4985  18.5356\n",
      "10. 2345.0764 2325.1860  19.8904\n"
     ]
    }
   ],
   "source": [
    "print(f'{\"PREDICTED\":>12} {\"ACTUAL\":>8} {\"DIFF\":>8}')\n",
    "for i in range(10):\n",
    "    diff = np.abs(y_val[i].item()-y_test[i].item())\n",
    "    print(f'{i+1:2}. {y_val[i].item():8.4f} {y_test[i].item():8.4f} {diff:8.4f}')"
   ]
  },
  {
   "cell_type": "code",
   "execution_count": 24,
   "id": "bf7961dd",
   "metadata": {},
   "outputs": [
    {
     "data": {
      "text/plain": [
       "0.022910122"
      ]
     },
     "execution_count": 24,
     "metadata": {},
     "output_type": "execute_result"
    }
   ],
   "source": [
    "from sklearn.metrics import mean_absolute_percentage_error\n",
    "mean_absolute_percentage_error(y_test, y_val)"
   ]
  },
  {
   "cell_type": "code",
   "execution_count": 25,
   "id": "d65b0538",
   "metadata": {},
   "outputs": [
    {
     "name": "stdout",
     "output_type": "stream",
     "text": [
      "0.41534793672248793\n"
     ]
    }
   ],
   "source": [
    "with torch.no_grad():\n",
    "    from sklearn.metrics import r2_score\n",
    "    print(r2_score(y_test, y_val))"
   ]
  },
  {
   "cell_type": "code",
   "execution_count": 26,
   "id": "8883a884",
   "metadata": {},
   "outputs": [
    {
     "name": "stdout",
     "output_type": "stream",
     "text": [
      "0.00016651361\n"
     ]
    }
   ],
   "source": [
    "from sklearn.metrics import mean_absolute_percentage_error\n",
    "with torch.no_grad():\n",
    "    print(mean_absolute_percentage_error(y_train, y_pred))"
   ]
  },
  {
   "cell_type": "code",
   "execution_count": 32,
   "id": "86b25857",
   "metadata": {},
   "outputs": [
    {
     "data": {
      "text/plain": [
       "array([[2.05138682, 2.54425652, 2.11093647, 2.65138205],\n",
       "       [2.266486  , 2.54731215, 2.94789183, 2.7865626 ],\n",
       "       [2.74087144, 2.63530966, 2.03364423, 2.15373813],\n",
       "       [2.56589915, 2.55390452, 2.90137703, 2.80110829]])"
      ]
     },
     "execution_count": 32,
     "metadata": {},
     "output_type": "execute_result"
    }
   ],
   "source": [
    "np.random.uniform(2,3,(4,4))"
   ]
  },
  {
   "cell_type": "code",
   "execution_count": 37,
   "id": "786b059e",
   "metadata": {},
   "outputs": [
    {
     "name": "stdout",
     "output_type": "stream",
     "text": [
      "PSO found best solution at f([2.71702471 2.15852092])=0.9400583724804715\n",
      "Global optimal at f([3.1818181818181817, 3.131313131313131])=-1.8082706615747688\n"
     ]
    }
   ],
   "source": [
    "import numpy as np\n",
    "import matplotlib.pyplot as plt\n",
    "from matplotlib.animation import FuncAnimation\n",
    "\n",
    "def f(x,y):\n",
    "    \"Objective function\"\n",
    "    return (x-3.14)**2 + (y-2.72)**2 + np.sin(3*x+1.41) + np.sin(4*y-1.73)\n",
    "    \n",
    "# Compute and plot the function in 3D within [0,5]x[0,5]\n",
    "x, y = np.array(np.meshgrid(np.linspace(0,5,100), np.linspace(0,5,100)))\n",
    "z = f(x, y)\n",
    "\n",
    "# Find the global minimum\n",
    "x_min = x.ravel()[z.argmin()]\n",
    "y_min = y.ravel()[z.argmin()]\n",
    "\n",
    "# Hyper-parameter of the algorithm\n",
    "c1 = c2 = 0.1\n",
    "w = 0.8\n",
    "\n",
    "# Create particles\n",
    "n_particles = 20\n",
    "np.random.seed(100)\n",
    "X = np.random.rand(2, n_particles) * 5\n",
    "V = np.random.randn(2, n_particles) * 0.1\n",
    "\n",
    "# Initialize data\n",
    "pbest = X\n",
    "pbest_obj = f(X[0], X[1])\n",
    "gbest = pbest[:, pbest_obj.argmin()]\n",
    "gbest_obj = pbest_obj.min()\n",
    "\n",
    "def update():\n",
    "    \"Function to do one iteration of particle swarm optimization\"\n",
    "    global V, X, pbest, pbest_obj, gbest, gbest_obj\n",
    "    # Update params\n",
    "    r1, r2 = np.random.rand(2)\n",
    "    V = w * V + c1*r1*(pbest - X) + c2*r2*(gbest.reshape(-1,1)-X)\n",
    "    X = X + V\n",
    "    obj = f(X[0], X[1])\n",
    "    pbest[:, (pbest_obj >= obj)] = X[:, (pbest_obj >= obj)]\n",
    "    pbest_obj = np.array([pbest_obj, obj]).min(axis=0)\n",
    "    gbest = pbest[:, pbest_obj.argmin()]\n",
    "    gbest_obj = pbest_obj.min()\n",
    "\n",
    "print(\"PSO found best solution at f({})={}\".format(gbest, gbest_obj))\n",
    "print(\"Global optimal at f({})={}\".format([x_min,y_min], f(x_min,y_min)))"
   ]
  },
  {
   "cell_type": "code",
   "execution_count": null,
   "id": "5c4150ab",
   "metadata": {},
   "outputs": [],
   "source": []
  },
  {
   "cell_type": "code",
   "execution_count": null,
   "id": "2766c784",
   "metadata": {},
   "outputs": [],
   "source": []
  }
 ],
 "metadata": {
  "kernelspec": {
   "display_name": "Python 3 (ipykernel)",
   "language": "python",
   "name": "python3"
  },
  "language_info": {
   "codemirror_mode": {
    "name": "ipython",
    "version": 3
   },
   "file_extension": ".py",
   "mimetype": "text/x-python",
   "name": "python",
   "nbconvert_exporter": "python",
   "pygments_lexer": "ipython3",
   "version": "3.9.12"
  }
 },
 "nbformat": 4,
 "nbformat_minor": 5
}
