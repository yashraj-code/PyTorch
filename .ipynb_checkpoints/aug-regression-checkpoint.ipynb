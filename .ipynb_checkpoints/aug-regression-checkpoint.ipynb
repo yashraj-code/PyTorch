{
 "cells": [
  {
   "cell_type": "code",
   "execution_count": 58,
   "id": "3962edab",
   "metadata": {},
   "outputs": [],
   "source": [
    "import torch\n",
    "import torch.nn as nn\n",
    "import torch.nn.functional as F\n",
    "import numpy as np\n",
    "import pandas as pd\n",
    "import matplotlib.pyplot as plt\n",
    "from sklearn.model_selection import train_test_split\n",
    "from sklearn.preprocessing import StandardScaler\n",
    "from sklearn.utils import shuffle\n",
    "from sklearn.decomposition import PCA"
   ]
  },
  {
   "cell_type": "code",
   "execution_count": 59,
   "id": "e3aeca40",
   "metadata": {},
   "outputs": [],
   "source": [
    "from sklearn.metrics import mean_absolute_error\n",
    "from sklearn.metrics import mean_squared_error\n",
    "from sklearn.metrics import mean_absolute_percentage_error\n",
    "from sklearn.metrics import max_error\n",
    "from sklearn.metrics import r2_score"
   ]
  },
  {
   "cell_type": "code",
   "execution_count": 60,
   "id": "d1472d4e",
   "metadata": {},
   "outputs": [],
   "source": [
    "address=r\"C:\\Users\\Yashraj\\OneDrive - IIT Hyderabad\\IC_Analysis\\0. Main\\CC_gaussian _Cleaned_IC Curve (final)\\features\"\n",
    "data=pd.read_pickle(address)"
   ]
  },
  {
   "cell_type": "code",
   "execution_count": 61,
   "id": "3c82ddc1",
   "metadata": {},
   "outputs": [],
   "source": [
    "agumented=pd.DataFrame([])\n",
    "windows=[2,3]\n",
    "\n",
    "temp=data[(data[\"capacity\"]>2300)].__deepcopy__()\n",
    "\n",
    "for window in windows:\n",
    "    \n",
    "    temp=shuffle(temp)\n",
    "    temp=temp.rolling(window=window,min_periods=1).mean()\n",
    "    temp.reset_index(drop=True,inplace=True)\n",
    "    temp.drop([0],axis=0,inplace=True)\n",
    "    temp.reset_index(drop=True,inplace=True)\n",
    "    agumented=pd.concat([agumented,temp])\n"
   ]
  },
  {
   "cell_type": "code",
   "execution_count": 62,
   "id": "9cd4369f",
   "metadata": {},
   "outputs": [],
   "source": [
    "windows=[2,3]\n",
    "\n",
    "temp=data[(data[\"capacity\"]<2200)].__deepcopy__()\n",
    "\n",
    "for window in windows:\n",
    "    \n",
    "    temp=shuffle(temp)\n",
    "    temp=temp.rolling(window=window,min_periods=1).mean()\n",
    "    temp.reset_index(drop=True,inplace=True)\n",
    "    temp.drop([0],axis=0,inplace=True)\n",
    "    temp.reset_index(drop=True,inplace=True)\n",
    "    agumented=pd.concat([agumented,temp])"
   ]
  },
  {
   "cell_type": "code",
   "execution_count": 63,
   "id": "f3347712",
   "metadata": {},
   "outputs": [],
   "source": [
    "windows=[2,3,4,5]\n",
    "#windows=[2]\n",
    "\n",
    "temp=data.__deepcopy__()\n",
    "\n",
    "for window in windows:\n",
    "    \n",
    "    temp=shuffle(temp)\n",
    "    temp=temp.rolling(window=window,min_periods=1).mean()\n",
    "    temp.reset_index(drop=True,inplace=True)\n",
    "    temp.drop([0],axis=0,inplace=True)\n",
    "    temp.reset_index(drop=True,inplace=True)\n",
    "    agumented=pd.concat([agumented,temp])\n"
   ]
  },
  {
   "cell_type": "code",
   "execution_count": 64,
   "id": "63d5fc62",
   "metadata": {},
   "outputs": [],
   "source": [
    "agumented.reset_index(drop=True,inplace=True)\n",
    "agumented=shuffle(agumented)\n",
    "agumented.reset_index(drop=True,inplace=True)"
   ]
  },
  {
   "cell_type": "code",
   "execution_count": 65,
   "id": "895301aa",
   "metadata": {},
   "outputs": [],
   "source": [
    "# Creating training set\n",
    "X=agumented.drop(['ic_capacity', 'capacity'],axis=1).values\n",
    "y= agumented['capacity'].values.reshape(-1,1)\n",
    "\n",
    "# standardization\n",
    "sc=StandardScaler()\n",
    "\n",
    "# Use fit and transform method\n",
    "Scaled_data=sc.fit_transform(X)\n",
    "\n",
    "\n",
    "# Set the n_components=4\n",
    "principal=PCA(n_components=4)\n",
    "principal.fit(Scaled_data)\n",
    "pca=principal.transform(Scaled_data)\n",
    "\n",
    "X=pca\n",
    "\n",
    "X_train= torch.FloatTensor(X)\n",
    "y_train= torch.FloatTensor(y)"
   ]
  },
  {
   "cell_type": "code",
   "execution_count": 66,
   "id": "68ccbbe6",
   "metadata": {},
   "outputs": [],
   "source": [
    "#preparing Testing data\n",
    "\n",
    "#removing outlier\n",
    "data.drop([17],axis=0,inplace=True)\n",
    "data.reset_index(drop=True)\n",
    "\n",
    "X1=data.drop(['ic_capacity', 'capacity'],axis=1).values\n",
    "y1= data['capacity'].values.reshape(-1,1)\n",
    "\n",
    "# standardization\n",
    "sc=StandardScaler()\n",
    "\n",
    "# Use fit and transform method\n",
    "Scaled_data=sc.fit_transform(X1)\n",
    "\n",
    "\n",
    "# Set the n_components=4\n",
    "principal=PCA(n_components=4)\n",
    "principal.fit(Scaled_data)\n",
    "pca=principal.transform(Scaled_data)\n",
    "\n",
    "X1=pca\n",
    "\n",
    "X_test = torch.FloatTensor(sc.fit_transform(X1))\n",
    "y_test = torch.FloatTensor(y1)"
   ]
  },
  {
   "cell_type": "code",
   "execution_count": 67,
   "id": "6d4faf43",
   "metadata": {},
   "outputs": [],
   "source": [
    "class TabularModel(nn.Module):\n",
    "\n",
    "    def __init__(self, n_cont, out_sz, layers):\n",
    "        super().__init__()\n",
    "        \n",
    "        self.bn_cont = nn.BatchNorm1d(n_cont)\n",
    "        \n",
    "        layerlist = []\n",
    "        \n",
    "        for i in layers:\n",
    "            layerlist.append(nn.Linear(n_cont,i)) \n",
    "            layerlist.append(nn.ReLU(inplace=True))\n",
    "            layerlist.append(nn.BatchNorm1d(i))\n",
    "            n_cont = i\n",
    "        layerlist.append(nn.Linear(layers[-1],out_sz))\n",
    "            \n",
    "        self.layers = nn.Sequential(*layerlist)\n",
    "    \n",
    "    def forward(self, x):\n",
    "        \n",
    "        x = self.bn_cont(x)\n",
    "        x = self.layers(x)\n",
    "        return x"
   ]
  },
  {
   "cell_type": "code",
   "execution_count": 68,
   "id": "33c35c1b",
   "metadata": {},
   "outputs": [],
   "source": [
    "torch.manual_seed(33)\n",
    "model = TabularModel(X.shape[1], 1, [16,32,64,32,16])\n",
    "#[16,32,64,32,16]"
   ]
  },
  {
   "cell_type": "code",
   "execution_count": 69,
   "id": "667452ae",
   "metadata": {},
   "outputs": [],
   "source": [
    "criterion = nn.MSELoss()  # we'll convert this to RMSE later\n",
    "optimizer = torch.optim.Adam(model.parameters(), lr=0.01)"
   ]
  },
  {
   "cell_type": "code",
   "execution_count": 70,
   "id": "0493314b",
   "metadata": {
    "scrolled": true
   },
   "outputs": [
    {
     "name": "stdout",
     "output_type": "stream",
     "text": [
      "epoch:  0  loss: 2257.53320312\n",
      "epoch: 500  loss: 1235.41333008\n",
      "epoch: 1000  loss: 0.54249626\n",
      "epoch: 1500  loss: 0.21181884\n",
      "epoch: 2000  loss: 0.24627328\n",
      "epoch: 2500  loss: 0.26088658\n",
      "epoch: 3000  loss: 0.22581965\n",
      "epoch: 3500  loss: 0.22017005\n",
      "epoch: 4000  loss: 0.25182682\n",
      "epoch: 4500  loss: 0.20242172\n",
      "epoch: 5000  loss: 0.32093787\n"
     ]
    }
   ],
   "source": [
    "epochs = 5001\n",
    "losses = []\n",
    "\n",
    "for i in range(epochs):\n",
    "    \n",
    "    y_pred = model.forward(X_train)\n",
    "    loss = torch.sqrt(criterion(y_pred, y_train))\n",
    "    losses.append(loss.item())\n",
    "\n",
    "# A neat trick to save screen space:\n",
    "    if i%500 == 0:\n",
    "        print(f'epoch: {i:2}  loss: {loss.item():10.8f}')\n",
    "\n",
    "    optimizer.zero_grad()\n",
    "    loss.backward()\n",
    "    optimizer.step()"
   ]
  },
  {
   "cell_type": "code",
   "execution_count": 71,
   "id": "3b5bb4e2",
   "metadata": {},
   "outputs": [
    {
     "name": "stdout",
     "output_type": "stream",
     "text": [
      "26.28559303\n"
     ]
    }
   ],
   "source": [
    "# To Evaluate the Entire Test set\n",
    "# no_grad ensure that gradient is not calculated and weights and bias are not updated\n",
    "\n",
    "with torch.no_grad():\n",
    "    y_val = model.forward(X_test)\n",
    "    loss = torch.sqrt(criterion(y_val , y_test))\n",
    "print(f'{loss:10.8f}')\n"
   ]
  },
  {
   "cell_type": "code",
   "execution_count": 72,
   "id": "84ec6812",
   "metadata": {},
   "outputs": [
    {
     "name": "stdout",
     "output_type": "stream",
     "text": [
      "   PREDICTED   ACTUAL     DIFF\n",
      " 1. 2292.6096 2288.4985   4.1111\n",
      " 2. 2318.6548 2305.9348  12.7200\n",
      " 3. 2315.7031 2308.2515   7.4517\n",
      " 4. 2301.9868 2320.2244  18.2375\n",
      " 5. 2233.6216 2216.7000  16.9216\n",
      " 6. 2255.8711 2248.3000   7.5710\n",
      " 7. 2252.3567 2260.0000   7.6433\n",
      " 8. 2257.7876 2262.0000   4.2124\n",
      " 9. 2256.3540 2277.0000  20.6460\n",
      "10. 2237.3489 2246.3999   9.0510\n",
      "11. 2249.4521 2270.3000  20.8479\n",
      "12. 2187.5317 2206.3000  18.7683\n",
      "13. 2298.6812 2331.5911  32.9099\n",
      "14. 2302.1829 2295.6160   6.5669\n",
      "15. 2322.3245 2332.1936   9.8691\n",
      "16. 2308.9233 2310.4836   1.5603\n",
      "17. 2261.3430 2258.2000   3.1431\n",
      "18. 2241.1885 2261.1001  19.9116\n",
      "19. 2315.7688 2322.7004   6.9316\n",
      "20. 2297.4087 2336.7156  39.3069\n",
      "21. 2317.2861 2325.1860   7.8999\n",
      "22. 1992.2720 2059.3999  67.1279\n",
      "23. 2236.3257 2264.6001  28.2744\n",
      "24. 2246.6541 2191.8000  54.8540\n",
      "25. 2266.4907 2334.5000  68.0093\n",
      "26. 2297.4177 2281.2085  16.2092\n",
      "27. 2301.4712 2337.9314  36.4602\n",
      "28. 2308.1897 2339.3887  31.1990\n",
      "29. 2253.6030 2207.5000  46.1030\n",
      "30. 2249.9663 2250.8999   0.9336\n",
      "31. 2220.5156 2257.5000  36.9844\n",
      "32. 2212.7319 2258.8999  46.1680\n",
      "33. 2263.4304 2262.3999   1.0305\n",
      "34. 2272.3467 2271.5000   0.8467\n",
      "35. 2247.6646 2243.7000   3.9646\n",
      "36. 2233.3735 2202.0000  31.3735\n",
      "37. 2216.1487 2259.1001  42.9514\n",
      "38. 2235.5615 2238.3000   2.7385\n",
      "39. 2237.4038 2259.0000  21.5962\n",
      "40. 2225.9839 2219.8000   6.1838\n",
      "41. 2240.6401 2246.5000   5.8599\n",
      "42. 2257.0071 2249.6001   7.4070\n",
      "43. 2242.9785 2219.2000  23.7786\n",
      "44. 2263.9971 2278.7000  14.7029\n",
      "45. 2267.2764 2286.0000  18.7236\n",
      "46. 2201.5518 2172.1001  29.4517\n",
      "47. 2251.1484 2233.1001  18.0483\n"
     ]
    }
   ],
   "source": [
    "print(f'{\"PREDICTED\":>12} {\"ACTUAL\":>8} {\"DIFF\":>8}')\n",
    "for i in range(y_test.shape[0]):\n",
    "    diff = np.abs(y_val[i].item()-y_test[i].item())\n",
    "    print(f'{i+1:2}. {y_val[i].item():8.4f} {y_test[i].item():8.4f} {diff:8.4f}')"
   ]
  },
  {
   "cell_type": "code",
   "execution_count": 73,
   "id": "370be4ea",
   "metadata": {},
   "outputs": [
    {
     "data": {
      "text/plain": [
       "19.941734"
      ]
     },
     "execution_count": 73,
     "metadata": {},
     "output_type": "execute_result"
    }
   ],
   "source": [
    "# MAE\n",
    "mean_absolute_error(y_test, y_val)"
   ]
  },
  {
   "cell_type": "code",
   "execution_count": 74,
   "id": "ff29d503",
   "metadata": {
    "scrolled": true
   },
   "outputs": [
    {
     "data": {
      "text/plain": [
       "690.9324"
      ]
     },
     "execution_count": 74,
     "metadata": {},
     "output_type": "execute_result"
    }
   ],
   "source": [
    "#MSE\n",
    "mean_squared_error(y_test, y_val)"
   ]
  },
  {
   "cell_type": "code",
   "execution_count": 75,
   "id": "f46e9f68",
   "metadata": {},
   "outputs": [
    {
     "data": {
      "text/plain": [
       "0.008860408"
      ]
     },
     "execution_count": 75,
     "metadata": {},
     "output_type": "execute_result"
    }
   ],
   "source": [
    "#MAPE\n",
    "mean_absolute_percentage_error(y_test, y_val)"
   ]
  },
  {
   "cell_type": "code",
   "execution_count": 76,
   "id": "1e5aff64",
   "metadata": {},
   "outputs": [
    {
     "data": {
      "text/plain": [
       "68.00928"
      ]
     },
     "execution_count": 76,
     "metadata": {},
     "output_type": "execute_result"
    }
   ],
   "source": [
    "# Max Error\n",
    "max_error(y_test, y_val)"
   ]
  },
  {
   "cell_type": "code",
   "execution_count": 77,
   "id": "a5f59407",
   "metadata": {},
   "outputs": [
    {
     "data": {
      "text/plain": [
       "0.740726432121396"
      ]
     },
     "execution_count": 77,
     "metadata": {},
     "output_type": "execute_result"
    }
   ],
   "source": [
    "r2_score(y_test, y_val)"
   ]
  },
  {
   "cell_type": "markdown",
   "id": "b6c60594",
   "metadata": {},
   "source": [
    "# RANDOM FOREST MODEL"
   ]
  },
  {
   "cell_type": "code",
   "execution_count": null,
   "id": "c3851a50",
   "metadata": {},
   "outputs": [],
   "source": []
  },
  {
   "cell_type": "code",
   "execution_count": 78,
   "id": "e17c2895",
   "metadata": {},
   "outputs": [],
   "source": [
    "#Random forest model \n",
    "from sklearn.ensemble import RandomForestRegressor\n",
    "from sklearn.datasets import make_regression\n",
    "\n",
    "model = RandomForestRegressor()\n",
    "model.fit(X_train,np.ravel(y_train))\n",
    "# Get the mean absolute error on the validation data\n",
    "\n",
    "y_val = model.predict(X_test)"
   ]
  },
  {
   "cell_type": "code",
   "execution_count": 79,
   "id": "1345e44c",
   "metadata": {},
   "outputs": [
    {
     "data": {
      "text/plain": [
       "24.75284099173042"
      ]
     },
     "execution_count": 79,
     "metadata": {},
     "output_type": "execute_result"
    }
   ],
   "source": [
    "# MAE\n",
    "mean_absolute_error(y_test, y_val)"
   ]
  },
  {
   "cell_type": "code",
   "execution_count": 80,
   "id": "755a2bd5",
   "metadata": {
    "scrolled": true
   },
   "outputs": [
    {
     "data": {
      "text/plain": [
       "1061.5660172184032"
      ]
     },
     "execution_count": 80,
     "metadata": {},
     "output_type": "execute_result"
    }
   ],
   "source": [
    "#MSE\n",
    "mean_squared_error(y_test, y_val)"
   ]
  },
  {
   "cell_type": "code",
   "execution_count": 81,
   "id": "fbd5ae47",
   "metadata": {},
   "outputs": [
    {
     "data": {
      "text/plain": [
       "0.010956106467860603"
      ]
     },
     "execution_count": 81,
     "metadata": {},
     "output_type": "execute_result"
    }
   ],
   "source": [
    "#MAPE\n",
    "mean_absolute_percentage_error(y_test, y_val)"
   ]
  },
  {
   "cell_type": "code",
   "execution_count": 82,
   "id": "28d3efca",
   "metadata": {},
   "outputs": [
    {
     "data": {
      "text/plain": [
       "81.82004638671879"
      ]
     },
     "execution_count": 82,
     "metadata": {},
     "output_type": "execute_result"
    }
   ],
   "source": [
    "# Max Error\n",
    "max_error(y_test, y_val)"
   ]
  },
  {
   "cell_type": "code",
   "execution_count": 83,
   "id": "381a313d",
   "metadata": {},
   "outputs": [
    {
     "data": {
      "text/plain": [
       "0.6016455474633373"
      ]
     },
     "execution_count": 83,
     "metadata": {},
     "output_type": "execute_result"
    }
   ],
   "source": [
    "r2_score(y_test, y_val)"
   ]
  },
  {
   "cell_type": "markdown",
   "id": "210fc751",
   "metadata": {},
   "source": [
    "# XG Boost"
   ]
  },
  {
   "cell_type": "code",
   "execution_count": 84,
   "id": "8b449e18",
   "metadata": {},
   "outputs": [
    {
     "name": "stderr",
     "output_type": "stream",
     "text": [
      "C:\\ProgramData\\Anaconda3\\lib\\site-packages\\xgboost\\compat.py:36: FutureWarning: pandas.Int64Index is deprecated and will be removed from pandas in a future version. Use pandas.Index with the appropriate dtype instead.\n",
      "  from pandas import MultiIndex, Int64Index\n"
     ]
    }
   ],
   "source": [
    "import xgboost as xgb\n",
    "XGBModel = xgb.XGBRegressor()\n",
    "XGBModel.fit(X_train,np.ravel(y_train) , verbose=False)\n",
    "\n",
    "# Get the mean absolute error on the validation data :\n",
    "y_val = XGBModel.predict(X_test)"
   ]
  },
  {
   "cell_type": "code",
   "execution_count": 85,
   "id": "e4188a35",
   "metadata": {
    "scrolled": true
   },
   "outputs": [
    {
     "data": {
      "text/plain": [
       "25.43616"
      ]
     },
     "execution_count": 85,
     "metadata": {},
     "output_type": "execute_result"
    }
   ],
   "source": [
    "# MAE\n",
    "mean_absolute_error(y_test, y_val)"
   ]
  },
  {
   "cell_type": "code",
   "execution_count": 86,
   "id": "a4ed6836",
   "metadata": {
    "scrolled": true
   },
   "outputs": [
    {
     "data": {
      "text/plain": [
       "1132.384"
      ]
     },
     "execution_count": 86,
     "metadata": {},
     "output_type": "execute_result"
    }
   ],
   "source": [
    "#MSE\n",
    "mean_squared_error(y_test, y_val)"
   ]
  },
  {
   "cell_type": "code",
   "execution_count": 87,
   "id": "9677d393",
   "metadata": {},
   "outputs": [
    {
     "data": {
      "text/plain": [
       "0.011289296"
      ]
     },
     "execution_count": 87,
     "metadata": {},
     "output_type": "execute_result"
    }
   ],
   "source": [
    "#MAPE\n",
    "mean_absolute_percentage_error(y_test, y_val)"
   ]
  },
  {
   "cell_type": "code",
   "execution_count": 88,
   "id": "c1334327",
   "metadata": {
    "scrolled": true
   },
   "outputs": [
    {
     "data": {
      "text/plain": [
       "96.20508"
      ]
     },
     "execution_count": 88,
     "metadata": {},
     "output_type": "execute_result"
    }
   ],
   "source": [
    "# Max Error\n",
    "max_error(y_test, y_val)"
   ]
  },
  {
   "cell_type": "code",
   "execution_count": 89,
   "id": "a407c9b2",
   "metadata": {},
   "outputs": [
    {
     "data": {
      "text/plain": [
       "0.5750709807578924"
      ]
     },
     "execution_count": 89,
     "metadata": {},
     "output_type": "execute_result"
    }
   ],
   "source": [
    "r2_score(y_test, y_val)"
   ]
  },
  {
   "cell_type": "markdown",
   "id": "9a0947dc",
   "metadata": {},
   "source": [
    "# GradientBoostingRegressor"
   ]
  },
  {
   "cell_type": "code",
   "execution_count": 90,
   "id": "1bdaad4d",
   "metadata": {},
   "outputs": [],
   "source": [
    "from sklearn.ensemble import GradientBoostingRegressor\n",
    "reg = GradientBoostingRegressor(random_state=0)\n",
    "reg.fit(X_train, np.ravel(y_train))\n",
    "y_val=reg.predict(X_test)"
   ]
  },
  {
   "cell_type": "code",
   "execution_count": 91,
   "id": "b9741323",
   "metadata": {
    "scrolled": true
   },
   "outputs": [
    {
     "data": {
      "text/plain": [
       "25.946081823027214"
      ]
     },
     "execution_count": 91,
     "metadata": {},
     "output_type": "execute_result"
    }
   ],
   "source": [
    "# MAE\n",
    "mean_absolute_error(y_test, y_val)"
   ]
  },
  {
   "cell_type": "code",
   "execution_count": 92,
   "id": "18ccbc63",
   "metadata": {
    "scrolled": true
   },
   "outputs": [
    {
     "data": {
      "text/plain": [
       "1167.7466420479445"
      ]
     },
     "execution_count": 92,
     "metadata": {},
     "output_type": "execute_result"
    }
   ],
   "source": [
    "#MSE\n",
    "mean_squared_error(y_test, y_val)"
   ]
  },
  {
   "cell_type": "code",
   "execution_count": 93,
   "id": "eb678c59",
   "metadata": {},
   "outputs": [
    {
     "data": {
      "text/plain": [
       "0.011513955925575031"
      ]
     },
     "execution_count": 93,
     "metadata": {},
     "output_type": "execute_result"
    }
   ],
   "source": [
    "#MAPE\n",
    "mean_absolute_percentage_error(y_test, y_val)"
   ]
  },
  {
   "cell_type": "code",
   "execution_count": 94,
   "id": "b9572f2e",
   "metadata": {
    "scrolled": true
   },
   "outputs": [
    {
     "data": {
      "text/plain": [
       "89.65864998304733"
      ]
     },
     "execution_count": 94,
     "metadata": {},
     "output_type": "execute_result"
    }
   ],
   "source": [
    "# Max Error\n",
    "max_error(y_test, y_val)"
   ]
  },
  {
   "cell_type": "code",
   "execution_count": 95,
   "id": "9533101a",
   "metadata": {},
   "outputs": [
    {
     "data": {
      "text/plain": [
       "0.5618010874976689"
      ]
     },
     "execution_count": 95,
     "metadata": {},
     "output_type": "execute_result"
    }
   ],
   "source": [
    "r2_score(y_test, y_val)"
   ]
  },
  {
   "cell_type": "markdown",
   "id": "011e7c5c",
   "metadata": {},
   "source": [
    "# ElasticNet"
   ]
  },
  {
   "cell_type": "code",
   "execution_count": 96,
   "id": "9d3816b7",
   "metadata": {},
   "outputs": [],
   "source": [
    "from sklearn.linear_model import ElasticNet\n",
    "reg= ElasticNet(random_state=0)\n",
    "reg.fit(X_train,np.ravel(y_train))\n",
    "y_val= reg.predict(X_test)"
   ]
  },
  {
   "cell_type": "code",
   "execution_count": 97,
   "id": "7e786b4a",
   "metadata": {
    "scrolled": true
   },
   "outputs": [
    {
     "data": {
      "text/plain": [
       "27.29670965717106"
      ]
     },
     "execution_count": 97,
     "metadata": {},
     "output_type": "execute_result"
    }
   ],
   "source": [
    "# MAE\n",
    "mean_absolute_error(y_test, y_val)"
   ]
  },
  {
   "cell_type": "code",
   "execution_count": 98,
   "id": "9f1447d8",
   "metadata": {
    "scrolled": true
   },
   "outputs": [
    {
     "data": {
      "text/plain": [
       "1264.208726888218"
      ]
     },
     "execution_count": 98,
     "metadata": {},
     "output_type": "execute_result"
    }
   ],
   "source": [
    "#MSE\n",
    "mean_squared_error(y_test, y_val)"
   ]
  },
  {
   "cell_type": "code",
   "execution_count": 99,
   "id": "6cb7beda",
   "metadata": {},
   "outputs": [
    {
     "data": {
      "text/plain": [
       "0.012087964883093336"
      ]
     },
     "execution_count": 99,
     "metadata": {},
     "output_type": "execute_result"
    }
   ],
   "source": [
    "#MAPE\n",
    "mean_absolute_percentage_error(y_test, y_val)"
   ]
  },
  {
   "cell_type": "code",
   "execution_count": 100,
   "id": "4d689488",
   "metadata": {
    "scrolled": true
   },
   "outputs": [
    {
     "data": {
      "text/plain": [
       "92.60512216636243"
      ]
     },
     "execution_count": 100,
     "metadata": {},
     "output_type": "execute_result"
    }
   ],
   "source": [
    "# Max Error\n",
    "max_error(y_test, y_val)"
   ]
  },
  {
   "cell_type": "code",
   "execution_count": 101,
   "id": "8bd4e5d2",
   "metadata": {},
   "outputs": [
    {
     "data": {
      "text/plain": [
       "0.5256035261836969"
      ]
     },
     "execution_count": 101,
     "metadata": {},
     "output_type": "execute_result"
    }
   ],
   "source": [
    "r2_score(y_test, y_val)"
   ]
  },
  {
   "cell_type": "markdown",
   "id": "955d7973",
   "metadata": {},
   "source": [
    "# SVM"
   ]
  },
  {
   "cell_type": "code",
   "execution_count": 102,
   "id": "2613cfe5",
   "metadata": {},
   "outputs": [],
   "source": [
    "from sklearn.svm import SVR\n",
    "reg = SVR(kernel='rbf',degree=15)\n",
    "reg.fit(X_train,np.ravel(y_train))\n",
    "y_val= reg.predict(X_test)"
   ]
  },
  {
   "cell_type": "code",
   "execution_count": 103,
   "id": "3128b0a3",
   "metadata": {
    "scrolled": true
   },
   "outputs": [
    {
     "data": {
      "text/plain": [
       "31.432324561944544"
      ]
     },
     "execution_count": 103,
     "metadata": {},
     "output_type": "execute_result"
    }
   ],
   "source": [
    "# MAE\n",
    "mean_absolute_error(y_test, y_val)"
   ]
  },
  {
   "cell_type": "code",
   "execution_count": 104,
   "id": "1fce68f3",
   "metadata": {
    "scrolled": true
   },
   "outputs": [
    {
     "data": {
      "text/plain": [
       "2171.418968780725"
      ]
     },
     "execution_count": 104,
     "metadata": {},
     "output_type": "execute_result"
    }
   ],
   "source": [
    "#MSE\n",
    "mean_squared_error(y_test, y_val)"
   ]
  },
  {
   "cell_type": "code",
   "execution_count": 105,
   "id": "3897a7c1",
   "metadata": {},
   "outputs": [
    {
     "data": {
      "text/plain": [
       "0.014024472727144738"
      ]
     },
     "execution_count": 105,
     "metadata": {},
     "output_type": "execute_result"
    }
   ],
   "source": [
    "#MAPE\n",
    "mean_absolute_percentage_error(y_test, y_val)"
   ]
  },
  {
   "cell_type": "code",
   "execution_count": 106,
   "id": "21b5078b",
   "metadata": {
    "scrolled": true
   },
   "outputs": [
    {
     "data": {
      "text/plain": [
       "206.96753348293032"
      ]
     },
     "execution_count": 106,
     "metadata": {},
     "output_type": "execute_result"
    }
   ],
   "source": [
    "# Max Error\n",
    "max_error(y_test, y_val)"
   ]
  },
  {
   "cell_type": "code",
   "execution_count": 107,
   "id": "7c69e3e4",
   "metadata": {},
   "outputs": [
    {
     "data": {
      "text/plain": [
       "0.18517134073027763"
      ]
     },
     "execution_count": 107,
     "metadata": {},
     "output_type": "execute_result"
    }
   ],
   "source": [
    "r2_score(y_test, y_val)"
   ]
  }
 ],
 "metadata": {
  "kernelspec": {
   "display_name": "Python 3 (ipykernel)",
   "language": "python",
   "name": "python3"
  },
  "language_info": {
   "codemirror_mode": {
    "name": "ipython",
    "version": 3
   },
   "file_extension": ".py",
   "mimetype": "text/x-python",
   "name": "python",
   "nbconvert_exporter": "python",
   "pygments_lexer": "ipython3",
   "version": "3.9.12"
  }
 },
 "nbformat": 4,
 "nbformat_minor": 5
}
